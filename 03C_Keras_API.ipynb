{
  "nbformat": 4,
  "nbformat_minor": 0,
  "metadata": {
    "colab": {
      "name": "03C_Keras_API.ipynb",
      "version": "0.3.2",
      "provenance": []
    },
    "kernelspec": {
      "display_name": "Python 3",
      "language": "python",
      "name": "python3"
    },
    "accelerator": "GPU"
  },
  "cells": [
    {
      "metadata": {
        "id": "qMZw7JNTbbXd",
        "colab_type": "text"
      },
      "cell_type": "markdown",
      "source": [
        "# TensorFlow Tutorial #03-C\n",
        "# Keras API\n",
        "\n",
        "by [Magnus Erik Hvass Pedersen](http://www.hvass-labs.org/)\n",
        "/ [GitHub](https://github.com/Hvass-Labs/TensorFlow-Tutorials) / [Videos on YouTube](https://www.youtube.com/playlist?list=PL9Hr9sNUjfsmEu1ZniY0XpHSzl5uihcXZ)"
      ]
    },
    {
      "metadata": {
        "id": "ZCB77ewrbbXi",
        "colab_type": "text"
      },
      "cell_type": "markdown",
      "source": [
        "## Introduction\n",
        "\n",
        "Tutorial #02 showed how to implement a Convolutional Neural Network in TensorFlow. We made a few helper-functions for creating the layers in the network. It is essential to have a good high-level API because it makes it much easier to implement complex models, and it lowers the risk of errors.\n",
        "\n",
        "There are several of these builder API's available for TensorFlow: PrettyTensor (Tutorial #03), Layers API (Tutorial #03-B), and several others. But they were never really finished and now they seem to be more or less abandoned by their developers.\n",
        "\n",
        "This tutorial is about the Keras API which is already highly developed with very good documentation - and the development continues. It seems likely that Keras will be the standard API for TensorFlow in the future so it is recommended that you use it instead of the other APIs.\n",
        "\n",
        "The author of Keras has written a [blog-post](https://blog.keras.io/user-experience-design-for-apis.html) on his API design philosophy which you should read."
      ]
    },
    {
      "metadata": {
        "id": "T-LixVi6bbXj",
        "colab_type": "text"
      },
      "cell_type": "markdown",
      "source": [
        "## Flowchart"
      ]
    },
    {
      "metadata": {
        "id": "mVr7CwDSbbXl",
        "colab_type": "text"
      },
      "cell_type": "markdown",
      "source": [
        "The following chart shows roughly how the data flows in the Convolutional Neural Network that is implemented below. See Tutorial #02 for a more detailed description of convolution.\n",
        "\n",
        "There are two convolutional layers, each followed by a down-sampling using max-pooling (not shown in this flowchart). Then there are two fully-connected layers ending in a softmax-classifier."
      ]
    },
    {
      "metadata": {
        "id": "qoavrP9qbbXq",
        "colab_type": "text"
      },
      "cell_type": "markdown",
      "source": [
        "![Flowchart](https://github.com/Hvass-Labs/TensorFlow-Tutorials/blob/master/images/02_network_flowchart.png?raw=1)"
      ]
    },
    {
      "metadata": {
        "id": "3LzW6Yx3bbXs",
        "colab_type": "text"
      },
      "cell_type": "markdown",
      "source": [
        "## Imports"
      ]
    },
    {
      "metadata": {
        "id": "DehCe54cbbXv",
        "colab_type": "code",
        "colab": {
          "base_uri": "https://localhost:8080/",
          "height": 0
        },
        "outputId": "075642a2-ccb1-4538-8c04-e1ebca915044"
      },
      "cell_type": "code",
      "source": [
        "%matplotlib inline\n",
        "import matplotlib.pyplot as plt\n",
        "import tensorflow as tf\n",
        "import numpy as np\n",
        "import math"
      ],
      "execution_count": 701,
      "outputs": []
    },
    {
      "metadata": {
        "id": "pAtkqdNibbX4",
        "colab_type": "text"
      },
      "cell_type": "markdown",
      "source": [
        "We need to import several things from Keras. Note the long import-statements. This might be a bug. Hopefully it will be possible to write shorter and more elegant lines in the future."
      ]
    },
    {
      "metadata": {
        "id": "Kv60SCRLbbX6",
        "colab_type": "code",
        "colab": {
          "base_uri": "https://localhost:8080/",
          "height": 0
        },
        "outputId": "7b3032a1-1074-4022-ef5a-d131e6d1757e"
      },
      "cell_type": "code",
      "source": [
        "# from tf.keras.models import Sequential  # This does not work!\n",
        "from tensorflow.python.keras.models import Sequential\n",
        "from tensorflow.python.keras.layers import InputLayer, Input\n",
        "from tensorflow.python.keras.layers import Reshape, MaxPooling2D\n",
        "from tensorflow.python.keras.layers import Conv2D, Dense, Flatten"
      ],
      "execution_count": 702,
      "outputs": []
    },
    {
      "metadata": {
        "id": "DWigwDgGbbYA",
        "colab_type": "text"
      },
      "cell_type": "markdown",
      "source": [
        "This was developed using Python 3.6 (Anaconda) and TensorFlow version:"
      ]
    },
    {
      "metadata": {
        "id": "bsoDBUXgbbYD",
        "colab_type": "code",
        "colab": {
          "base_uri": "https://localhost:8080/",
          "height": 0
        },
        "outputId": "778afc07-a68b-454c-f5d8-382622cd8cef"
      },
      "cell_type": "code",
      "source": [
        "tf.__version__"
      ],
      "execution_count": 703,
      "outputs": [
        {
          "output_type": "execute_result",
          "data": {
            "text/plain": [
              "'1.9.0-rc2'"
            ]
          },
          "metadata": {
            "tags": []
          },
          "execution_count": 703
        }
      ]
    },
    {
      "metadata": {
        "id": "udqjfjWUbbYK",
        "colab_type": "code",
        "colab": {
          "base_uri": "https://localhost:8080/",
          "height": 0
        },
        "outputId": "77d8f894-67df-440a-b0f9-07be42ce4f55"
      },
      "cell_type": "code",
      "source": [
        "tf.keras.__version__"
      ],
      "execution_count": 704,
      "outputs": [
        {
          "output_type": "execute_result",
          "data": {
            "text/plain": [
              "'2.1.6-tf'"
            ]
          },
          "metadata": {
            "tags": []
          },
          "execution_count": 704
        }
      ]
    },
    {
      "metadata": {
        "id": "3ushspskbbYU",
        "colab_type": "text"
      },
      "cell_type": "markdown",
      "source": [
        "## Load Data"
      ]
    },
    {
      "metadata": {
        "id": "iDzgA48dbbYV",
        "colab_type": "text"
      },
      "cell_type": "markdown",
      "source": [
        "The MNIST data-set is about 12 MB and will be downloaded automatically if it is not located in the given path."
      ]
    },
    {
      "metadata": {
        "id": "ZobcyXYwbbYY",
        "colab_type": "code",
        "colab": {
          "base_uri": "https://localhost:8080/",
          "height": 0
        },
        "outputId": "dacc66bb-544f-4ae5-857b-3f80847bbc32"
      },
      "cell_type": "code",
      "source": [
        "from tensorflow.examples.tutorials.mnist import input_data\n",
        "data = input_data.read_data_sets('data/MNIST/', one_hot=True)"
      ],
      "execution_count": 705,
      "outputs": [
        {
          "output_type": "stream",
          "text": [
            "Extracting data/MNIST/train-images-idx3-ubyte.gz\n",
            "Extracting data/MNIST/train-labels-idx1-ubyte.gz\n",
            "Extracting data/MNIST/t10k-images-idx3-ubyte.gz\n",
            "Extracting data/MNIST/t10k-labels-idx1-ubyte.gz\n"
          ],
          "name": "stdout"
        }
      ]
    },
    {
      "metadata": {
        "id": "i7cWqCKVbbYi",
        "colab_type": "text"
      },
      "cell_type": "markdown",
      "source": [
        "The MNIST data-set has now been loaded and consists of 70,000 images and associated labels (i.e. classifications of the images). The data-set is split into 3 mutually exclusive sub-sets. We will only use the training and test-sets in this tutorial."
      ]
    },
    {
      "metadata": {
        "id": "isNIN25dbbYk",
        "colab_type": "code",
        "colab": {
          "base_uri": "https://localhost:8080/",
          "height": 0
        },
        "outputId": "6272bde9-2621-47ce-b12d-1377afc46e66"
      },
      "cell_type": "code",
      "source": [
        "print(\"Size of:\")\n",
        "print(\"- Training-set:\\t\\t{}\".format(len(data.train.labels)))\n",
        "print(\"- Test-set:\\t\\t{}\".format(len(data.test.labels)))\n",
        "print(\"- Validation-set:\\t{}\".format(len(data.validation.labels)))"
      ],
      "execution_count": 706,
      "outputs": [
        {
          "output_type": "stream",
          "text": [
            "Size of:\n",
            "- Training-set:\t\t55000\n",
            "- Test-set:\t\t10000\n",
            "- Validation-set:\t5000\n"
          ],
          "name": "stdout"
        }
      ]
    },
    {
      "metadata": {
        "id": "mf9MTtWWbbYy",
        "colab_type": "text"
      },
      "cell_type": "markdown",
      "source": [
        "The class-labels are One-Hot encoded, which means that each label is a vector with 10 elements, all of which are zero except for one element. The index of this one element is the class-number, that is, the digit shown in the associated image. We also need the class-numbers as integers for the test-set, so we calculate it now."
      ]
    },
    {
      "metadata": {
        "id": "EpOiF9z8bbY5",
        "colab_type": "code",
        "colab": {
          "base_uri": "https://localhost:8080/",
          "height": 0
        },
        "outputId": "cba92f00-9b1c-45ed-b1fc-3e52515aa26a"
      },
      "cell_type": "code",
      "source": [
        "data.test.cls = np.argmax(data.test.labels, axis=1)"
      ],
      "execution_count": 707,
      "outputs": []
    },
    {
      "metadata": {
        "id": "A1YOk3m-bbZB",
        "colab_type": "text"
      },
      "cell_type": "markdown",
      "source": [
        "## Data Dimensions"
      ]
    },
    {
      "metadata": {
        "id": "V8xcM0mBbbZC",
        "colab_type": "text"
      },
      "cell_type": "markdown",
      "source": [
        "The data dimensions are used in several places in the source-code below. They are defined once so we can use these variables instead of numbers throughout the source-code below."
      ]
    },
    {
      "metadata": {
        "id": "7Cwk08FcbbZF",
        "colab_type": "code",
        "colab": {
          "base_uri": "https://localhost:8080/",
          "height": 0
        },
        "outputId": "f26a718e-b343-413f-fc85-366be008d380"
      },
      "cell_type": "code",
      "source": [
        "# We know that MNIST images are 28 pixels in each dimension.\n",
        "img_size = 28\n",
        "\n",
        "# Images are stored in one-dimensional arrays of this length.\n",
        "img_size_flat = img_size * img_size\n",
        "\n",
        "# Tuple with height and width of images used to reshape arrays.\n",
        "# This is used for plotting the images.\n",
        "img_shape = (img_size, img_size)\n",
        "\n",
        "# Tuple with height, width and depth used to reshape arrays.\n",
        "# This is used for reshaping in Keras.\n",
        "img_shape_full = (img_size, img_size, 1)\n",
        "\n",
        "# Number of colour channels for the images: 1 channel for gray-scale.\n",
        "num_channels = 1\n",
        "\n",
        "# Number of classes, one class for each of 10 digits.\n",
        "num_classes = 10"
      ],
      "execution_count": 708,
      "outputs": []
    },
    {
      "metadata": {
        "id": "M86tvVYxbbZL",
        "colab_type": "text"
      },
      "cell_type": "markdown",
      "source": [
        "### Helper-function for plotting images"
      ]
    },
    {
      "metadata": {
        "id": "8LBcmZg7bbZN",
        "colab_type": "text"
      },
      "cell_type": "markdown",
      "source": [
        "Function used to plot 9 images in a 3x3 grid, and writing the true and predicted classes below each image."
      ]
    },
    {
      "metadata": {
        "id": "DFtT7v7PbbZO",
        "colab_type": "code",
        "colab": {
          "base_uri": "https://localhost:8080/",
          "height": 0
        },
        "outputId": "840eddab-1e90-4b07-aa58-ab3052c5e724"
      },
      "cell_type": "code",
      "source": [
        "def plot_images(images, cls_true, cls_pred=None):\n",
        "    assert len(images) == len(cls_true) == 9\n",
        "    \n",
        "    # Create figure with 3x3 sub-plots.\n",
        "    fig, axes = plt.subplots(3, 3)\n",
        "    fig.subplots_adjust(hspace=0.3, wspace=0.3)\n",
        "\n",
        "    for i, ax in enumerate(axes.flat):\n",
        "        # Plot image.\n",
        "        ax.imshow(images[i].reshape(img_shape), cmap='binary')\n",
        "\n",
        "        # Show true and predicted classes.\n",
        "        if cls_pred is None:\n",
        "            xlabel = \"True: {0}\".format(cls_true[i])\n",
        "        else:\n",
        "            xlabel = \"True: {0}, Pred: {1}\".format(cls_true[i], cls_pred[i])\n",
        "\n",
        "        # Show the classes as the label on the x-axis.\n",
        "        ax.set_xlabel(xlabel)\n",
        "        \n",
        "        # Remove ticks from the plot.\n",
        "        ax.set_xticks([])\n",
        "        ax.set_yticks([])\n",
        "    \n",
        "    # Ensure the plot is shown correctly with multiple plots\n",
        "    # in a single Notebook cell.\n",
        "    plt.show()"
      ],
      "execution_count": 709,
      "outputs": []
    },
    {
      "metadata": {
        "id": "Utddh9bRbbZT",
        "colab_type": "text"
      },
      "cell_type": "markdown",
      "source": [
        "### Plot a few images to see if data is correct"
      ]
    },
    {
      "metadata": {
        "id": "d6jYZt9rbbZU",
        "colab_type": "code",
        "colab": {
          "base_uri": "https://localhost:8080/",
          "height": 0
        },
        "outputId": "9824f830-f970-4a8f-b8db-3a0d689b234b"
      },
      "cell_type": "code",
      "source": [
        "# Get the first images from the test-set.\n",
        "images = data.test.images[0:9]\n",
        "\n",
        "# Get the true classes for those images.\n",
        "cls_true = data.test.cls[0:9]\n",
        "\n",
        "# Plot the images and labels using our helper-function above.\n",
        "plot_images(images=images, cls_true=cls_true)"
      ],
      "execution_count": 710,
      "outputs": [
        {
          "output_type": "display_data",
          "data": {
            "image/png": "[encoded data removed]",
            "text/plain": [
              "<matplotlib.figure.Figure at 0x7fd8aaa92be0>"
            ]
          },
          "metadata": {
            "tags": []
          }
        }
      ]
    },
    {
      "metadata": {
        "id": "L5Fdw6FzbbZY",
        "colab_type": "text"
      },
      "cell_type": "markdown",
      "source": [
        "### Helper-function to plot example errors\n",
        "\n",
        "Function for plotting examples of images from the test-set that have been mis-classified."
      ]
    },
    {
      "metadata": {
        "id": "LztyL2o2bbZb",
        "colab_type": "code",
        "colab": {
          "base_uri": "https://localhost:8080/",
          "height": 0
        },
        "outputId": "b3e7917a-6784-42c9-ce01-04562401c3f1"
      },
      "cell_type": "code",
      "source": [
        "def plot_example_errors(cls_pred):\n",
        "    # cls_pred is an array of the predicted class-number for\n",
        "    # all images in the test-set.\n",
        "\n",
        "    # Boolean array whether the predicted class is incorrect.\n",
        "    incorrect = (cls_pred != data.test.cls)\n",
        "\n",
        "    # Get the images from the test-set that have been\n",
        "    # incorrectly classified.\n",
        "    images = data.test.images[incorrect]\n",
        "    \n",
        "    # Get the predicted classes for those images.\n",
        "    cls_pred = cls_pred[incorrect]\n",
        "\n",
        "    # Get the true classes for those images.\n",
        "    cls_true = data.test.cls[incorrect]\n",
        "    \n",
        "    # Plot the first 9 images.\n",
        "    plot_images(images=images[0:9],\n",
        "                cls_true=cls_true[0:9],\n",
        "                cls_pred=cls_pred[0:9])"
      ],
      "execution_count": 711,
      "outputs": []
    },
    {
      "metadata": {
        "id": "CfKUKB-fbbZm",
        "colab_type": "text"
      },
      "cell_type": "markdown",
      "source": [
        "## PrettyTensor API\n",
        "\n",
        "This is how the Convolutional Neural Network was implemented in Tutorial #03 using the PrettyTensor API. It is shown here for easy comparison to the Keras implementation below."
      ]
    },
    {
      "metadata": {
        "id": "MH2nQLyLbbZn",
        "colab_type": "code",
        "colab": {
          "base_uri": "https://localhost:8080/",
          "height": 0
        },
        "outputId": "8c931b1e-9969-4442-83fe-2c9607d4c61f"
      },
      "cell_type": "code",
      "source": [
        "if False:\n",
        "    x_pretty = pt.wrap(x_image)\n",
        "\n",
        "    with pt.defaults_scope(activation_fn=tf.nn.relu):\n",
        "        y_pred, loss = x_pretty.\\\n",
        "            conv2d(kernel=5, depth=16, name='layer_conv1').\\\n",
        "            max_pool(kernel=2, stride=2).\\\n",
        "            conv2d(kernel=5, depth=36, name='layer_conv2').\\\n",
        "            max_pool(kernel=2, stride=2).\\\n",
        "            flatten().\\\n",
        "            fully_connected(size=128, name='layer_fc1').\\\n",
        "            softmax_classifier(num_classes=num_classes, labels=y_true)"
      ],
      "execution_count": 712,
      "outputs": []
    },
    {
      "metadata": {
        "id": "pEB9k4orbbZs",
        "colab_type": "text"
      },
      "cell_type": "markdown",
      "source": [
        "## Sequential Model\n",
        "\n",
        "The Keras API has two modes of constructing Neural Networks. The simplest is the Sequential Model which only allows for the layers to be added in sequence."
      ]
    },
    {
      "metadata": {
        "id": "LiGQZe2_bbZu",
        "colab_type": "code",
        "colab": {
          "base_uri": "https://localhost:8080/",
          "height": 0
        },
        "outputId": "0ed0ebd8-b7f7-4c74-dba0-92e31fab3530"
      },
      "cell_type": "code",
      "source": [
        "# Start construction of the Keras Sequential model.\n",
        "model = Sequential()\n",
        "\n",
        "# Add an input layer which is similar to a feed_dict in TensorFlow.\n",
        "# Note that the input-shape must be a tuple containing the image-size.\n",
        "model.add(InputLayer(input_shape=(img_size_flat,)))\n",
        "\n",
        "# The input is a flattened array with 784 elements,\n",
        "# but the convolutional layers expect images with shape (28, 28, 1)\n",
        "model.add(Reshape(img_shape_full))\n",
        "\n",
        "# First convolutional layer with ReLU-activation and max-pooling.\n",
        "model.add(Conv2D(kernel_size=5, strides=1, filters=16, padding='same',\n",
        "                 activation='relu', name='layer_conv1'))\n",
        "model.add(MaxPooling2D(pool_size=2, strides=2))\n",
        "\n",
        "# Second convolutional layer with ReLU-activation and max-pooling.\n",
        "model.add(Conv2D(kernel_size=5, strides=1, filters=36, padding='same',\n",
        "                 activation='relu', name='layer_conv2'))\n",
        "model.add(MaxPooling2D(pool_size=2, strides=2))\n",
        "\n",
        "# Flatten the 4-rank output of the convolutional layers\n",
        "# to 2-rank that can be input to a fully-connected / dense layer.\n",
        "model.add(Flatten())\n",
        "\n",
        "# First fully-connected / dense layer with ReLU-activation.\n",
        "model.add(Dense(128, activation='relu'))\n",
        "\n",
        "# Last fully-connected / dense layer with softmax-activation\n",
        "# for use in classification.\n",
        "model.add(Dense(num_classes, activation='softmax'))"
      ],
      "execution_count": 713,
      "outputs": []
    },
    {
      "metadata": {
        "id": "a2kBsWIKbbZ1",
        "colab_type": "text"
      },
      "cell_type": "markdown",
      "source": [
        "### Model Compilation\n",
        "\n",
        "The Neural Network has now been defined and must be finalized by adding a loss-function, optimizer and performance metrics. This is called model \"compilation\" in Keras.\n",
        "\n",
        "We can either define the optimizer using a string, or if we want more control of its parameters then we need to instantiate an object. For example, we can set the learning-rate."
      ]
    },
    {
      "metadata": {
        "id": "T2haw8vSbbZ4",
        "colab_type": "code",
        "colab": {
          "base_uri": "https://localhost:8080/",
          "height": 0
        },
        "outputId": "ced58e38-283e-4b01-8b85-3671b7b50e54"
      },
      "cell_type": "code",
      "source": [
        "from tensorflow.python.keras.optimizers import Adam\n",
        "\n",
        "optimizer = Adam(lr=1e-3)"
      ],
      "execution_count": 714,
      "outputs": []
    },
    {
      "metadata": {
        "id": "G5ofRJCBbbZ8",
        "colab_type": "text"
      },
      "cell_type": "markdown",
      "source": [
        "For a classification-problem such as MNIST which has 10 possible classes, we need to use the loss-function called `categorical_crossentropy`. The performance metric we are interested in is the classification accuracy."
      ]
    },
    {
      "metadata": {
        "id": "C3WH95yBbbZ9",
        "colab_type": "code",
        "colab": {
          "base_uri": "https://localhost:8080/",
          "height": 0
        },
        "outputId": "07032487-6886-420a-dafe-1aa35b7747e3"
      },
      "cell_type": "code",
      "source": [
        "model.compile(optimizer=optimizer,\n",
        "              loss='categorical_crossentropy',\n",
        "              metrics=['accuracy'])"
      ],
      "execution_count": 715,
      "outputs": []
    },
    {
      "metadata": {
        "id": "XFSox_gwbbaE",
        "colab_type": "text"
      },
      "cell_type": "markdown",
      "source": [
        "### Training\n",
        "\n",
        "Now that the model has been fully defined with loss-function and optimizer, we can train it. This function takes numpy-arrays and performs the given number of training epochs using the given batch-size. An epoch is one full use of the entire training-set. So for 10 epochs we would iterate randomly over the entire training-set 10 times."
      ]
    },
    {
      "metadata": {
        "id": "4JOEdHPlbbaJ",
        "colab_type": "code",
        "colab": {
          "base_uri": "https://localhost:8080/",
          "height": 0
        },
        "outputId": "f04ef993-9419-497a-8370-26a2b085efea"
      },
      "cell_type": "code",
      "source": [
        "model.fit(x=data.train.images,\n",
        "          y=data.train.labels,\n",
        "          epochs=1, batch_size=128)"
      ],
      "execution_count": 716,
      "outputs": [
        {
          "output_type": "stream",
          "text": [
            "Epoch 1/1\n",
            "55000/55000 [==============================] - 7s 126us/step - loss: 0.2134 - acc: 0.9383\n"
          ],
          "name": "stdout"
        },
        {
          "output_type": "execute_result",
          "data": {
            "text/plain": [
              "<tensorflow.python.keras.callbacks.History at 0x7fd89ba238d0>"
            ]
          },
          "metadata": {
            "tags": []
          },
          "execution_count": 716
        }
      ]
    },
    {
      "metadata": {
        "id": "Yp_ycliNbbaP",
        "colab_type": "text"
      },
      "cell_type": "markdown",
      "source": [
        "### Evaluation\n",
        "\n",
        "Now that the model has been trained we can test its performance on the test-set. This also uses numpy-arrays as input."
      ]
    },
    {
      "metadata": {
        "id": "yvhZkuo0bbaP",
        "colab_type": "code",
        "colab": {
          "base_uri": "https://localhost:8080/",
          "height": 0
        },
        "outputId": "261746b9-2a9a-46a8-e4e4-d74adaf15f31"
      },
      "cell_type": "code",
      "source": [
        "result = model.evaluate(x=data.test.images,\n",
        "                        y=data.test.labels)"
      ],
      "execution_count": 717,
      "outputs": [
        {
          "output_type": "stream",
          "text": [
            "10000/10000 [==============================] - 1s 148us/step\n"
          ],
          "name": "stdout"
        }
      ]
    },
    {
      "metadata": {
        "id": "w-dfXH4xbbaW",
        "colab_type": "text"
      },
      "cell_type": "markdown",
      "source": [
        "We can print all the performance metrics for the test-set."
      ]
    },
    {
      "metadata": {
        "id": "J_3XYtcFbbac",
        "colab_type": "code",
        "colab": {
          "base_uri": "https://localhost:8080/",
          "height": 0
        },
        "outputId": "3ff94754-bbba-4117-9410-5852433260b8"
      },
      "cell_type": "code",
      "source": [
        "for name, value in zip(model.metrics_names, result):\n",
        "    print(name, value)"
      ],
      "execution_count": 718,
      "outputs": [
        {
          "output_type": "stream",
          "text": [
            "loss 0.060762007527798416\n",
            "acc 0.981\n"
          ],
          "name": "stdout"
        }
      ]
    },
    {
      "metadata": {
        "id": "IPLia6t5bbak",
        "colab_type": "text"
      },
      "cell_type": "markdown",
      "source": [
        "Or we can just print the classification accuracy."
      ]
    },
    {
      "metadata": {
        "id": "u92vbA0Bbbal",
        "colab_type": "code",
        "colab": {
          "base_uri": "https://localhost:8080/",
          "height": 0
        },
        "outputId": "5a370fb1-4684-44a1-c73a-8190f1cdc6f6"
      },
      "cell_type": "code",
      "source": [
        "print(\"{0}: {1:.2%}\".format(model.metrics_names[1], result[1]))"
      ],
      "execution_count": 719,
      "outputs": [
        {
          "output_type": "stream",
          "text": [
            "acc: 98.10%\n"
          ],
          "name": "stdout"
        }
      ]
    },
    {
      "metadata": {
        "id": "T__866HKbbar",
        "colab_type": "text"
      },
      "cell_type": "markdown",
      "source": [
        "### Prediction\n",
        "\n",
        "We can also predict the classification for new images. We will just use some images from the test-set but you could load your own images into numpy arrays and use those instead."
      ]
    },
    {
      "metadata": {
        "id": "IVH50xqvbbas",
        "colab_type": "code",
        "colab": {
          "base_uri": "https://localhost:8080/",
          "height": 0
        },
        "outputId": "53de6d64-6fa9-49f1-9953-70186b173320"
      },
      "cell_type": "code",
      "source": [
        "images = data.test.images[0:9]"
      ],
      "execution_count": 720,
      "outputs": []
    },
    {
      "metadata": {
        "id": "-z_j_sDBbbaw",
        "colab_type": "text"
      },
      "cell_type": "markdown",
      "source": [
        "These are the true class-number for those images. This is only used when plotting the images."
      ]
    },
    {
      "metadata": {
        "id": "1wTt_y5sbbax",
        "colab_type": "code",
        "colab": {
          "base_uri": "https://localhost:8080/",
          "height": 0
        },
        "outputId": "131ffadc-414b-40bf-8670-5b98519d7283"
      },
      "cell_type": "code",
      "source": [
        "cls_true = data.test.cls[0:9]"
      ],
      "execution_count": 721,
      "outputs": []
    },
    {
      "metadata": {
        "id": "T3BeFONBbba5",
        "colab_type": "text"
      },
      "cell_type": "markdown",
      "source": [
        "Get the predicted classes as One-Hot encoded arrays."
      ]
    },
    {
      "metadata": {
        "id": "W9XBTxqibba6",
        "colab_type": "code",
        "colab": {
          "base_uri": "https://localhost:8080/",
          "height": 0
        },
        "outputId": "d23f5e3b-4f16-463b-d1a6-5fa26118787e"
      },
      "cell_type": "code",
      "source": [
        "y_pred = model.predict(x=images)"
      ],
      "execution_count": 722,
      "outputs": []
    },
    {
      "metadata": {
        "id": "2ca1hcW7bba8",
        "colab_type": "text"
      },
      "cell_type": "markdown",
      "source": [
        "Get the predicted classes as integers."
      ]
    },
    {
      "metadata": {
        "id": "lEtqK1itbba9",
        "colab_type": "code",
        "colab": {
          "base_uri": "https://localhost:8080/",
          "height": 0
        },
        "outputId": "2734fda0-eba4-4384-f661-19380ba2b3c2"
      },
      "cell_type": "code",
      "source": [
        "cls_pred = np.argmax(y_pred,axis=1)"
      ],
      "execution_count": 723,
      "outputs": []
    },
    {
      "metadata": {
        "id": "CdNZQBRNbba_",
        "colab_type": "code",
        "colab": {
          "base_uri": "https://localhost:8080/",
          "height": 0
        },
        "outputId": "9f8daee7-d1ed-4d7c-e096-7b0ded9df411"
      },
      "cell_type": "code",
      "source": [
        "plot_images(images=images,\n",
        "            cls_true=cls_true,\n",
        "            cls_pred=cls_pred)"
      ],
      "execution_count": 724,
      "outputs": [
        {
          "output_type": "display_data",
          "data": {
            "image/png": "[encoded data removed]",
            "text/plain": [
              "<matplotlib.figure.Figure at 0x7fd89d6af198>"
            ]
          },
          "metadata": {
            "tags": []
          }
        }
      ]
    },
    {
      "metadata": {
        "id": "x7iQXakpbbbF",
        "colab_type": "text"
      },
      "cell_type": "markdown",
      "source": [
        "### Examples of Mis-Classified Images\n",
        "\n",
        "We can plot some examples of mis-classified images from the test-set.\n",
        "\n",
        "First we get the predicted classes for all the images in the test-set:"
      ]
    },
    {
      "metadata": {
        "id": "2COsCMSObbbF",
        "colab_type": "code",
        "colab": {
          "base_uri": "https://localhost:8080/",
          "height": 0
        },
        "outputId": "cfa9ded9-97e4-4baa-f45d-96de02389317"
      },
      "cell_type": "code",
      "source": [
        "y_pred = model.predict(x=data.test.images)"
      ],
      "execution_count": 725,
      "outputs": []
    },
    {
      "metadata": {
        "id": "FWvXJNTjbbbI",
        "colab_type": "text"
      },
      "cell_type": "markdown",
      "source": [
        "Then we convert the predicted class-numbers from One-Hot encoded arrays to integers."
      ]
    },
    {
      "metadata": {
        "id": "diVJ4f_gbbbI",
        "colab_type": "code",
        "colab": {
          "base_uri": "https://localhost:8080/",
          "height": 0
        },
        "outputId": "ac8f2f9c-ff86-4369-e7f3-57b2b1e277a0"
      },
      "cell_type": "code",
      "source": [
        "cls_pred = np.argmax(y_pred,axis=1)"
      ],
      "execution_count": 726,
      "outputs": []
    },
    {
      "metadata": {
        "id": "8nicKoeSbbbO",
        "colab_type": "text"
      },
      "cell_type": "markdown",
      "source": [
        "Plot some of the mis-classified images."
      ]
    },
    {
      "metadata": {
        "id": "gXrw79xRbbbP",
        "colab_type": "code",
        "colab": {
          "base_uri": "https://localhost:8080/",
          "height": 0
        },
        "outputId": "6f784ba0-1496-48a5-ff16-a6ce5a83c3eb"
      },
      "cell_type": "code",
      "source": [
        "plot_example_errors(cls_pred)"
      ],
      "execution_count": 727,
      "outputs": [
        {
          "output_type": "display_data",
          "data": {
            "image/png": "[encoded data removed]",
            "text/plain": [
              "<matplotlib.figure.Figure at 0x7fd89baeffd0>"
            ]
          },
          "metadata": {
            "tags": []
          }
        }
      ]
    },
    {
      "metadata": {
        "id": "eAjQUgwSbbbU",
        "colab_type": "text"
      },
      "cell_type": "markdown",
      "source": [
        "## Functional Model\n",
        "\n",
        "The Keras API can also be used to construct more complicated networks using the Functional Model. This may look a little confusing at first, because each call to the Keras API will create and return an instance that is itself callable. It is not clear whether it is a function or an object - but we can call it as if it is a function. This allows us to build computational graphs that are more complex than the Sequential Model allows."
      ]
    },
    {
      "metadata": {
        "id": "NH7BjIzkbbbZ",
        "colab_type": "code",
        "colab": {
          "base_uri": "https://localhost:8080/",
          "height": 788
        },
        "outputId": "57449295-f709-4a8a-c248-6f4ca0d72f5a"
      },
      "cell_type": "code",
      "source": [
        "from tensorflow.python.keras import backend as K\n",
        "# Create an input layer which is similar to a feed_dict in TensorFlow.\n",
        "# Note that the input-shape must be a tuple containing the image-size.\n",
        "inputs = Input(shape=(img_size_flat,))\n",
        "\n",
        "# Variable used for building the Neural Network.\n",
        "net = inputs\n",
        "\n",
        "# The input is an image as a flattened array with 784 elements.\n",
        "# But the convolutional layers expect images with shape (28, 28, 1)\n",
        "net = Reshape(img_shape_full)(net)\n",
        "\n",
        "# First convolutional layer with ReLU-activation and max-pooling.\n",
        "net = Conv2D(kernel_size=5, strides=1, filters=16, padding='same',\n",
        "             activation='relu', name='layer_conv1')(net)\n",
        "net = MaxPooling2D(pool_size=2, strides=2)(net)\n",
        "\n",
        "# Second convolutional layer with ReLU-activation and max-pooling.\n",
        "net = Conv2D(kernel_size=5, strides=1, filters=36, padding='same',\n",
        "             activation='relu', name='layer_conv2')(net)\n",
        "net = MaxPooling2D(pool_size=2, strides=2)(net)\n",
        "\n",
        "# Flatten the output of the conv-layer from 4-dim to 2-dim.\n",
        "net = Flatten()(net)\n",
        "\n",
        "# First fully-connected / dense layer with ReLU-activation.\n",
        "net = Dense(128, activation='relu')(net)\n",
        "\n",
        "# Last fully-connected / dense layer with softmax-activation\n",
        "# so it can be used for classification.\n",
        "net = Dense(num_classes, activation='softmax')(net)\n",
        "net = Dense(num_classes, activation='argmax')(net)\n",
        "\n",
        "\n",
        "# Output of the Neural Network.\n",
        "outputs = net"
      ],
      "execution_count": 728,
      "outputs": [
        {
          "output_type": "error",
          "ename": "ValueError",
          "evalue": "ignored",
          "traceback": [
            "\u001b[0;31m---------------------------------------------------------------------------\u001b[0m",
            "\u001b[0;31mValueError\u001b[0m                                Traceback (most recent call last)",
            "\u001b[0;32m<ipython-input-728-764d4619f19d>\u001b[0m in \u001b[0;36m<module>\u001b[0;34m()\u001b[0m\n\u001b[1;32m     30\u001b[0m \u001b[0;31m# so it can be used for classification.\u001b[0m\u001b[0;34m\u001b[0m\u001b[0;34m\u001b[0m\u001b[0m\n\u001b[1;32m     31\u001b[0m \u001b[0mnet\u001b[0m \u001b[0;34m=\u001b[0m \u001b[0mDense\u001b[0m\u001b[0;34m(\u001b[0m\u001b[0mnum_classes\u001b[0m\u001b[0;34m,\u001b[0m \u001b[0mactivation\u001b[0m\u001b[0;34m=\u001b[0m\u001b[0;34m'softmax'\u001b[0m\u001b[0;34m)\u001b[0m\u001b[0;34m(\u001b[0m\u001b[0mnet\u001b[0m\u001b[0;34m)\u001b[0m\u001b[0;34m\u001b[0m\u001b[0m\n\u001b[0;32m---> 32\u001b[0;31m \u001b[0mnet\u001b[0m \u001b[0;34m=\u001b[0m \u001b[0mDense\u001b[0m\u001b[0;34m(\u001b[0m\u001b[0mnum_classes\u001b[0m\u001b[0;34m,\u001b[0m \u001b[0mactivation\u001b[0m\u001b[0;34m=\u001b[0m\u001b[0;34m'argmax'\u001b[0m\u001b[0;34m)\u001b[0m\u001b[0;34m(\u001b[0m\u001b[0mnet\u001b[0m\u001b[0;34m)\u001b[0m\u001b[0;34m\u001b[0m\u001b[0m\n\u001b[0m\u001b[1;32m     33\u001b[0m \u001b[0;34m\u001b[0m\u001b[0m\n\u001b[1;32m     34\u001b[0m \u001b[0;34m\u001b[0m\u001b[0m\n",
            "\u001b[0;32m/usr/local/lib/python3.6/dist-packages/tensorflow/python/keras/layers/core.py\u001b[0m in \u001b[0;36m__init__\u001b[0;34m(self, units, activation, use_bias, kernel_initializer, bias_initializer, kernel_regularizer, bias_regularizer, activity_regularizer, kernel_constraint, bias_constraint, **kwargs)\u001b[0m\n\u001b[1;32m    864\u001b[0m         activity_regularizer=regularizers.get(activity_regularizer), **kwargs)\n\u001b[1;32m    865\u001b[0m     \u001b[0mself\u001b[0m\u001b[0;34m.\u001b[0m\u001b[0munits\u001b[0m \u001b[0;34m=\u001b[0m \u001b[0mint\u001b[0m\u001b[0;34m(\u001b[0m\u001b[0munits\u001b[0m\u001b[0;34m)\u001b[0m\u001b[0;34m\u001b[0m\u001b[0m\n\u001b[0;32m--> 866\u001b[0;31m     \u001b[0mself\u001b[0m\u001b[0;34m.\u001b[0m\u001b[0mactivation\u001b[0m \u001b[0;34m=\u001b[0m \u001b[0mactivations\u001b[0m\u001b[0;34m.\u001b[0m\u001b[0mget\u001b[0m\u001b[0;34m(\u001b[0m\u001b[0mactivation\u001b[0m\u001b[0;34m)\u001b[0m\u001b[0;34m\u001b[0m\u001b[0m\n\u001b[0m\u001b[1;32m    867\u001b[0m     \u001b[0mself\u001b[0m\u001b[0;34m.\u001b[0m\u001b[0muse_bias\u001b[0m \u001b[0;34m=\u001b[0m \u001b[0muse_bias\u001b[0m\u001b[0;34m\u001b[0m\u001b[0m\n\u001b[1;32m    868\u001b[0m     \u001b[0mself\u001b[0m\u001b[0;34m.\u001b[0m\u001b[0mkernel_initializer\u001b[0m \u001b[0;34m=\u001b[0m \u001b[0minitializers\u001b[0m\u001b[0;34m.\u001b[0m\u001b[0mget\u001b[0m\u001b[0;34m(\u001b[0m\u001b[0mkernel_initializer\u001b[0m\u001b[0;34m)\u001b[0m\u001b[0;34m\u001b[0m\u001b[0m\n",
            "\u001b[0;32m/usr/local/lib/python3.6/dist-packages/tensorflow/python/keras/activations.py\u001b[0m in \u001b[0;36mget\u001b[0;34m(identifier)\u001b[0m\n\u001b[1;32m    133\u001b[0m   \u001b[0;32mif\u001b[0m \u001b[0misinstance\u001b[0m\u001b[0;34m(\u001b[0m\u001b[0midentifier\u001b[0m\u001b[0;34m,\u001b[0m \u001b[0msix\u001b[0m\u001b[0;34m.\u001b[0m\u001b[0mstring_types\u001b[0m\u001b[0;34m)\u001b[0m\u001b[0;34m:\u001b[0m\u001b[0;34m\u001b[0m\u001b[0m\n\u001b[1;32m    134\u001b[0m     \u001b[0midentifier\u001b[0m \u001b[0;34m=\u001b[0m \u001b[0mstr\u001b[0m\u001b[0;34m(\u001b[0m\u001b[0midentifier\u001b[0m\u001b[0;34m)\u001b[0m\u001b[0;34m\u001b[0m\u001b[0m\n\u001b[0;32m--> 135\u001b[0;31m     \u001b[0;32mreturn\u001b[0m \u001b[0mdeserialize\u001b[0m\u001b[0;34m(\u001b[0m\u001b[0midentifier\u001b[0m\u001b[0;34m)\u001b[0m\u001b[0;34m\u001b[0m\u001b[0m\n\u001b[0m\u001b[1;32m    136\u001b[0m   \u001b[0;32melif\u001b[0m \u001b[0mcallable\u001b[0m\u001b[0;34m(\u001b[0m\u001b[0midentifier\u001b[0m\u001b[0;34m)\u001b[0m\u001b[0;34m:\u001b[0m\u001b[0;34m\u001b[0m\u001b[0m\n\u001b[1;32m    137\u001b[0m     \u001b[0;32mreturn\u001b[0m \u001b[0midentifier\u001b[0m\u001b[0;34m\u001b[0m\u001b[0m\n",
            "\u001b[0;32m/usr/local/lib/python3.6/dist-packages/tensorflow/python/keras/activations.py\u001b[0m in \u001b[0;36mdeserialize\u001b[0;34m(name, custom_objects)\u001b[0m\n\u001b[1;32m    124\u001b[0m       \u001b[0mmodule_objects\u001b[0m\u001b[0;34m=\u001b[0m\u001b[0mglobals\u001b[0m\u001b[0;34m(\u001b[0m\u001b[0;34m)\u001b[0m\u001b[0;34m,\u001b[0m\u001b[0;34m\u001b[0m\u001b[0m\n\u001b[1;32m    125\u001b[0m       \u001b[0mcustom_objects\u001b[0m\u001b[0;34m=\u001b[0m\u001b[0mcustom_objects\u001b[0m\u001b[0;34m,\u001b[0m\u001b[0;34m\u001b[0m\u001b[0m\n\u001b[0;32m--> 126\u001b[0;31m       printable_module_name='activation function')\n\u001b[0m\u001b[1;32m    127\u001b[0m \u001b[0;34m\u001b[0m\u001b[0m\n\u001b[1;32m    128\u001b[0m \u001b[0;34m\u001b[0m\u001b[0m\n",
            "\u001b[0;32m/usr/local/lib/python3.6/dist-packages/tensorflow/python/keras/utils/generic_utils.py\u001b[0m in \u001b[0;36mdeserialize_keras_object\u001b[0;34m(identifier, module_objects, custom_objects, printable_module_name)\u001b[0m\n\u001b[1;32m    191\u001b[0m       \u001b[0;32mif\u001b[0m \u001b[0mfn\u001b[0m \u001b[0;32mis\u001b[0m \u001b[0;32mNone\u001b[0m\u001b[0;34m:\u001b[0m\u001b[0;34m\u001b[0m\u001b[0m\n\u001b[1;32m    192\u001b[0m         raise ValueError('Unknown ' + printable_module_name + ':' +\n\u001b[0;32m--> 193\u001b[0;31m                          function_name)\n\u001b[0m\u001b[1;32m    194\u001b[0m     \u001b[0;32mreturn\u001b[0m \u001b[0mfn\u001b[0m\u001b[0;34m\u001b[0m\u001b[0m\n\u001b[1;32m    195\u001b[0m   \u001b[0;32melse\u001b[0m\u001b[0;34m:\u001b[0m\u001b[0;34m\u001b[0m\u001b[0m\n",
            "\u001b[0;31mValueError\u001b[0m: Unknown activation function:argmax"
          ]
        }
      ]
    },
    {
      "metadata": {
        "id": "WeYxtNnrbbbb",
        "colab_type": "text"
      },
      "cell_type": "markdown",
      "source": [
        "### Model Compilation\n",
        "\n",
        "We have now defined the architecture of the model with its input and output. We now have to create a Keras model and compile it with a loss-function and optimizer, so it is ready for training."
      ]
    },
    {
      "metadata": {
        "id": "_HUTy-6wbbbc",
        "colab_type": "code",
        "colab": {}
      },
      "cell_type": "code",
      "source": [
        "from tensorflow.python.keras.models import Model"
      ],
      "execution_count": 0,
      "outputs": []
    },
    {
      "metadata": {
        "id": "RoiMlPYcbbbi",
        "colab_type": "text"
      },
      "cell_type": "markdown",
      "source": [
        "Create a new instance of the Keras Functional Model. We give it the inputs and outputs of the Convolutional Neural Network that we constructed above."
      ]
    },
    {
      "metadata": {
        "id": "Ce9jkczUbbbj",
        "colab_type": "code",
        "colab": {}
      },
      "cell_type": "code",
      "source": [
        "model2 = Model(inputs=inputs, outputs=outputs)"
      ],
      "execution_count": 0,
      "outputs": []
    },
    {
      "metadata": {
        "id": "u7V9CGVmbbbm",
        "colab_type": "text"
      },
      "cell_type": "markdown",
      "source": [
        "Compile the Keras model using the `rmsprop` optimizer and with a loss-function for multiple categories. The only performance metric we are interested in is the classification accuracy, but you could use a list of metrics here."
      ]
    },
    {
      "metadata": {
        "id": "YJooRklfbbbm",
        "colab_type": "code",
        "colab": {}
      },
      "cell_type": "code",
      "source": [
        "model2.compile(optimizer='rmsprop',\n",
        "               loss='categorical_crossentropy',\n",
        "               metrics=['accuracy'])"
      ],
      "execution_count": 0,
      "outputs": []
    },
    {
      "metadata": {
        "id": "MuH66P73bbbq",
        "colab_type": "text"
      },
      "cell_type": "markdown",
      "source": [
        "### Training\n",
        "\n",
        "The model has now been defined and compiled so it can be trained using the same `fit()` function as used in the Sequential Model above. This also takes numpy-arrays as input."
      ]
    },
    {
      "metadata": {
        "id": "bsG2-LIdbbbr",
        "colab_type": "code",
        "colab": {}
      },
      "cell_type": "code",
      "source": [
        "model2.fit(x=data.train.images,\n",
        "           y=data.train.labels,\n",
        "           epochs=1, batch_size=128)"
      ],
      "execution_count": 0,
      "outputs": []
    },
    {
      "metadata": {
        "id": "3kL1XPUCbbbt",
        "colab_type": "text"
      },
      "cell_type": "markdown",
      "source": [
        "### Evaluation\n",
        "\n",
        "Once the model has been trained we can evaluate its performance on the test-set. This is the same syntax as for the Sequential Model."
      ]
    },
    {
      "metadata": {
        "id": "hDvAK6RYbbbz",
        "colab_type": "code",
        "colab": {}
      },
      "cell_type": "code",
      "source": [
        "result = model2.evaluate(x=data.test.images,\n",
        "                         y=data.test.labels)"
      ],
      "execution_count": 0,
      "outputs": []
    },
    {
      "metadata": {
        "id": "65jnKJwVbbb7",
        "colab_type": "text"
      },
      "cell_type": "markdown",
      "source": [
        "The result is a list of values, containing the loss-value and all the metrics we defined when we compiled the model. Note that 'accuracy' is now called 'acc' which is a small inconsistency."
      ]
    },
    {
      "metadata": {
        "id": "OisWG_ZSbbb7",
        "colab_type": "code",
        "colab": {}
      },
      "cell_type": "code",
      "source": [
        "for name, value in zip(model2.metrics_names, result):\n",
        "    print(name, value)"
      ],
      "execution_count": 0,
      "outputs": []
    },
    {
      "metadata": {
        "id": "BBLku0Xpbbb-",
        "colab_type": "text"
      },
      "cell_type": "markdown",
      "source": [
        "We can also print the classification accuracy as a percentage:"
      ]
    },
    {
      "metadata": {
        "id": "7KYXmYLAbbb_",
        "colab_type": "code",
        "colab": {}
      },
      "cell_type": "code",
      "source": [
        "print(\"{0}: {1:.2%}\".format(model2.metrics_names[1], result[1]))"
      ],
      "execution_count": 0,
      "outputs": []
    },
    {
      "metadata": {
        "id": "7w8o5qC8bbcC",
        "colab_type": "text"
      },
      "cell_type": "markdown",
      "source": [
        "### Examples of Mis-Classified Images\n",
        "\n",
        "We can plot some examples of mis-classified images from the test-set.\n",
        "\n",
        "First we get the predicted classes for all the images in the test-set:"
      ]
    },
    {
      "metadata": {
        "id": "6WEBTYXObbcC",
        "colab_type": "code",
        "colab": {}
      },
      "cell_type": "code",
      "source": [
        "y_pred = model2.predict(x=data.test.images)"
      ],
      "execution_count": 0,
      "outputs": []
    },
    {
      "metadata": {
        "id": "sOGxp-tGbbcE",
        "colab_type": "text"
      },
      "cell_type": "markdown",
      "source": [
        "Then we convert the predicted class-numbers from One-Hot encoded arrays to integers."
      ]
    },
    {
      "metadata": {
        "id": "chGv6XvxbbcF",
        "colab_type": "code",
        "colab": {}
      },
      "cell_type": "code",
      "source": [
        "#cls_pred = np.argmax(y_pred, axis=1)"
      ],
      "execution_count": 0,
      "outputs": []
    },
    {
      "metadata": {
        "id": "530USZyqbbcN",
        "colab_type": "text"
      },
      "cell_type": "markdown",
      "source": [
        "Plot some of the mis-classified images."
      ]
    },
    {
      "metadata": {
        "id": "YBvOONdabbcO",
        "colab_type": "code",
        "colab": {}
      },
      "cell_type": "code",
      "source": [
        "plot_example_errors(y_pred)"
      ],
      "execution_count": 0,
      "outputs": []
    },
    {
      "metadata": {
        "id": "kfW264oPbbcR",
        "colab_type": "text"
      },
      "cell_type": "markdown",
      "source": [
        "## Save & Load Model\n",
        "\n",
        "NOTE: You need to install `h5py` for this to work!\n",
        "\n",
        "Tutorial #04 was about saving and restoring the weights of a model using native TensorFlow code. It was an absolutely horrible API! Fortunately, Keras makes this very easy.\n",
        "\n",
        "This is the file-path where we want to save the Keras model."
      ]
    },
    {
      "metadata": {
        "id": "Q8xD0lb1bbcS",
        "colab_type": "code",
        "colab": {}
      },
      "cell_type": "code",
      "source": [
        "path_model = 'model.keras'"
      ],
      "execution_count": 0,
      "outputs": []
    },
    {
      "metadata": {
        "id": "59XHOmFxbbcT",
        "colab_type": "text"
      },
      "cell_type": "markdown",
      "source": [
        "Saving a Keras model with the trained weights is then just a single function call, as it should be."
      ]
    },
    {
      "metadata": {
        "id": "EVCElWqqbbcT",
        "colab_type": "code",
        "colab": {}
      },
      "cell_type": "code",
      "source": [
        "model2.save(path_model)"
      ],
      "execution_count": 0,
      "outputs": []
    },
    {
      "metadata": {
        "id": "j4DyKIq5bbcU",
        "colab_type": "text"
      },
      "cell_type": "markdown",
      "source": [
        "Delete the model from memory so we are sure it is no longer used."
      ]
    },
    {
      "metadata": {
        "id": "Kq71xtZ5bbcV",
        "colab_type": "code",
        "colab": {}
      },
      "cell_type": "code",
      "source": [
        "del model2"
      ],
      "execution_count": 0,
      "outputs": []
    },
    {
      "metadata": {
        "id": "yzWJIxl4bbck",
        "colab_type": "text"
      },
      "cell_type": "markdown",
      "source": [
        "We need to import this Keras function for loading the model."
      ]
    },
    {
      "metadata": {
        "id": "WYCr-lGtbbcl",
        "colab_type": "code",
        "colab": {}
      },
      "cell_type": "code",
      "source": [
        "from tensorflow.python.keras.models import load_model"
      ],
      "execution_count": 0,
      "outputs": []
    },
    {
      "metadata": {
        "id": "e169ZPeTbbco",
        "colab_type": "text"
      },
      "cell_type": "markdown",
      "source": [
        "Loading the model is then just a single function-call, as it should be."
      ]
    },
    {
      "metadata": {
        "id": "tPBlEFxfbbcp",
        "colab_type": "code",
        "colab": {}
      },
      "cell_type": "code",
      "source": [
        "model3 = load_model(path_model)"
      ],
      "execution_count": 0,
      "outputs": []
    },
    {
      "metadata": {
        "id": "dwbtyU0Zbbcq",
        "colab_type": "text"
      },
      "cell_type": "markdown",
      "source": [
        "We can then use the model again e.g. to make predictions. We get the first 9 images from the test-set and their true class-numbers."
      ]
    },
    {
      "metadata": {
        "id": "lB8DDamabbcr",
        "colab_type": "code",
        "colab": {}
      },
      "cell_type": "code",
      "source": [
        "images = data.test.images[0:9]"
      ],
      "execution_count": 0,
      "outputs": []
    },
    {
      "metadata": {
        "id": "xgzOoL_-bbcu",
        "colab_type": "code",
        "colab": {}
      },
      "cell_type": "code",
      "source": [
        "cls_true = data.test.cls[0:9]"
      ],
      "execution_count": 0,
      "outputs": []
    },
    {
      "metadata": {
        "id": "X7Nyi2E1bbcx",
        "colab_type": "text"
      },
      "cell_type": "markdown",
      "source": [
        "We then use the restored model to predict the class-numbers for those images."
      ]
    },
    {
      "metadata": {
        "id": "2NfAg6eybbcx",
        "colab_type": "code",
        "colab": {}
      },
      "cell_type": "code",
      "source": [
        "y_pred = model3.predict(x=images)"
      ],
      "execution_count": 0,
      "outputs": []
    },
    {
      "metadata": {
        "id": "ux-1ym_dbbcz",
        "colab_type": "text"
      },
      "cell_type": "markdown",
      "source": [
        "Get the class-numbers as integers."
      ]
    },
    {
      "metadata": {
        "id": "eWZOPKUybbcz",
        "colab_type": "code",
        "colab": {}
      },
      "cell_type": "code",
      "source": [
        "cls_pred = np.argmax(y_pred, axis=1)"
      ],
      "execution_count": 0,
      "outputs": []
    },
    {
      "metadata": {
        "id": "wIO0_eQYbbc1",
        "colab_type": "text"
      },
      "cell_type": "markdown",
      "source": [
        "Plot the images with their true and predicted class-numbers."
      ]
    },
    {
      "metadata": {
        "id": "Yw6xntoAbbc1",
        "colab_type": "code",
        "colab": {}
      },
      "cell_type": "code",
      "source": [
        "plot_images(images=images,\n",
        "            cls_pred=cls_pred,\n",
        "            cls_true=cls_true)"
      ],
      "execution_count": 0,
      "outputs": []
    },
    {
      "metadata": {
        "id": "dYMfGpIqbbc5",
        "colab_type": "text"
      },
      "cell_type": "markdown",
      "source": [
        "## Visualization of Layer Weights and Outputs"
      ]
    },
    {
      "metadata": {
        "id": "bSw54cbsbbc6",
        "colab_type": "text"
      },
      "cell_type": "markdown",
      "source": [
        "### Helper-function for plotting convolutional weights"
      ]
    },
    {
      "metadata": {
        "id": "pMIc7N-abbdB",
        "colab_type": "code",
        "colab": {}
      },
      "cell_type": "code",
      "source": [
        "def plot_conv_weights(weights, input_channel=0):\n",
        "    # Get the lowest and highest values for the weights.\n",
        "    # This is used to correct the colour intensity across\n",
        "    # the images so they can be compared with each other.\n",
        "    w_min = np.min(weights)\n",
        "    w_max = np.max(weights)\n",
        "\n",
        "    # Number of filters used in the conv. layer.\n",
        "    num_filters = weights.shape[3]\n",
        "\n",
        "    # Number of grids to plot.\n",
        "    # Rounded-up, square-root of the number of filters.\n",
        "    num_grids = math.ceil(math.sqrt(num_filters))\n",
        "    \n",
        "    # Create figure with a grid of sub-plots.\n",
        "    fig, axes = plt.subplots(num_grids, num_grids)\n",
        "\n",
        "    # Plot all the filter-weights.\n",
        "    for i, ax in enumerate(axes.flat):\n",
        "        # Only plot the valid filter-weights.\n",
        "        if i<num_filters:\n",
        "            # Get the weights for the i'th filter of the input channel.\n",
        "            # See new_conv_layer() for details on the format\n",
        "            # of this 4-dim tensor.\n",
        "            img = weights[:, :, input_channel, i]\n",
        "\n",
        "            # Plot image.\n",
        "            ax.imshow(img, vmin=w_min, vmax=w_max,\n",
        "                      interpolation='nearest', cmap='seismic')\n",
        "        \n",
        "        # Remove ticks from the plot.\n",
        "        ax.set_xticks([])\n",
        "        ax.set_yticks([])\n",
        "    \n",
        "    # Ensure the plot is shown correctly with multiple plots\n",
        "    # in a single Notebook cell.\n",
        "    plt.show()"
      ],
      "execution_count": 0,
      "outputs": []
    },
    {
      "metadata": {
        "id": "chAxfwDpbbdD",
        "colab_type": "text"
      },
      "cell_type": "markdown",
      "source": [
        "### Get Layers\n",
        "\n",
        "Keras has a simple way of listing the layers in the model."
      ]
    },
    {
      "metadata": {
        "id": "IJd60GsNbbdD",
        "colab_type": "code",
        "colab": {}
      },
      "cell_type": "code",
      "source": [
        "model3.summary()"
      ],
      "execution_count": 0,
      "outputs": []
    },
    {
      "metadata": {
        "id": "bumclBTdbbdG",
        "colab_type": "text"
      },
      "cell_type": "markdown",
      "source": [
        "We count the indices to get the layers we want.\n",
        "\n",
        "The input-layer has index 0."
      ]
    },
    {
      "metadata": {
        "id": "M2yDD3PNbbdH",
        "colab_type": "code",
        "colab": {}
      },
      "cell_type": "code",
      "source": [
        "layer_input = model3.layers[0]"
      ],
      "execution_count": 0,
      "outputs": []
    },
    {
      "metadata": {
        "id": "G5e3n6mgbbdI",
        "colab_type": "text"
      },
      "cell_type": "markdown",
      "source": [
        "The first convolutional layer has index 2."
      ]
    },
    {
      "metadata": {
        "id": "PXKGz1usbbdJ",
        "colab_type": "code",
        "colab": {}
      },
      "cell_type": "code",
      "source": [
        "layer_conv1 = model3.layers[2]\n",
        "layer_conv1"
      ],
      "execution_count": 0,
      "outputs": []
    },
    {
      "metadata": {
        "id": "0vF3K49ebbdM",
        "colab_type": "text"
      },
      "cell_type": "markdown",
      "source": [
        "The second convolutional layer has index 4."
      ]
    },
    {
      "metadata": {
        "id": "nBe5f6BdbbdM",
        "colab_type": "code",
        "colab": {}
      },
      "cell_type": "code",
      "source": [
        "layer_conv2 = model3.layers[4]"
      ],
      "execution_count": 0,
      "outputs": []
    },
    {
      "metadata": {
        "id": "FfHkrxT-bbdP",
        "colab_type": "text"
      },
      "cell_type": "markdown",
      "source": [
        "### Convolutional Weights\n",
        "\n",
        "Now that we have the layers we can easily get their weights."
      ]
    },
    {
      "metadata": {
        "id": "hgaTfcJ0bbdP",
        "colab_type": "code",
        "colab": {}
      },
      "cell_type": "code",
      "source": [
        "weights_conv1 = layer_conv1.get_weights()[0]"
      ],
      "execution_count": 0,
      "outputs": []
    },
    {
      "metadata": {
        "id": "Ua_zB9IGbbdb",
        "colab_type": "text"
      },
      "cell_type": "markdown",
      "source": [
        "This gives us a 4-rank tensor."
      ]
    },
    {
      "metadata": {
        "id": "knn2FCA0bbdd",
        "colab_type": "code",
        "colab": {}
      },
      "cell_type": "code",
      "source": [
        "weights_conv1.shape"
      ],
      "execution_count": 0,
      "outputs": []
    },
    {
      "metadata": {
        "id": "XNQINvVObbdm",
        "colab_type": "text"
      },
      "cell_type": "markdown",
      "source": [
        "Plot the weights using the helper-function from above."
      ]
    },
    {
      "metadata": {
        "id": "YcydlS8cbbdm",
        "colab_type": "code",
        "colab": {}
      },
      "cell_type": "code",
      "source": [
        "plot_conv_weights(weights=weights_conv1, input_channel=0)"
      ],
      "execution_count": 0,
      "outputs": []
    },
    {
      "metadata": {
        "id": "XakOuiMdbbds",
        "colab_type": "text"
      },
      "cell_type": "markdown",
      "source": [
        "We can also get the weights for the second convolutional layer and plot them."
      ]
    },
    {
      "metadata": {
        "id": "-tBJAwTDbbdt",
        "colab_type": "code",
        "colab": {}
      },
      "cell_type": "code",
      "source": [
        "weights_conv2 = layer_conv2.get_weights()[0]"
      ],
      "execution_count": 0,
      "outputs": []
    },
    {
      "metadata": {
        "id": "h7zHU-Ymbbdv",
        "colab_type": "code",
        "colab": {}
      },
      "cell_type": "code",
      "source": [
        "plot_conv_weights(weights=weights_conv2, input_channel=0)"
      ],
      "execution_count": 0,
      "outputs": []
    },
    {
      "metadata": {
        "id": "plHZqrJ2bbdx",
        "colab_type": "text"
      },
      "cell_type": "markdown",
      "source": [
        "### Helper-function for plotting the output of a convolutional layer"
      ]
    },
    {
      "metadata": {
        "id": "mAG2mdiKbbd0",
        "colab_type": "code",
        "colab": {}
      },
      "cell_type": "code",
      "source": [
        "def plot_conv_output(values):\n",
        "    # Number of filters used in the conv. layer.\n",
        "    num_filters = values.shape[3]\n",
        "\n",
        "    # Number of grids to plot.\n",
        "    # Rounded-up, square-root of the number of filters.\n",
        "    num_grids = math.ceil(math.sqrt(num_filters))\n",
        "    \n",
        "    # Create figure with a grid of sub-plots.\n",
        "    fig, axes = plt.subplots(num_grids, num_grids)\n",
        "\n",
        "    # Plot the output images of all the filters.\n",
        "    for i, ax in enumerate(axes.flat):\n",
        "        # Only plot the images for valid filters.\n",
        "        if i<num_filters:\n",
        "            # Get the output image of using the i'th filter.\n",
        "            img = values[0, :, :, i]\n",
        "\n",
        "            # Plot image.\n",
        "            ax.imshow(img, interpolation='nearest', cmap='binary')\n",
        "        \n",
        "        # Remove ticks from the plot.\n",
        "        ax.set_xticks([])\n",
        "        ax.set_yticks([])\n",
        "    \n",
        "    # Ensure the plot is shown correctly with multiple plots\n",
        "    # in a single Notebook cell.\n",
        "    plt.show()"
      ],
      "execution_count": 0,
      "outputs": []
    },
    {
      "metadata": {
        "id": "rR5kZVb9bbd3",
        "colab_type": "text"
      },
      "cell_type": "markdown",
      "source": [
        "### Input Image\n",
        "\n",
        "Helper-function for plotting a single image."
      ]
    },
    {
      "metadata": {
        "id": "pT4GMzeZbbd3",
        "colab_type": "code",
        "colab": {}
      },
      "cell_type": "code",
      "source": [
        "def plot_image(image):\n",
        "    plt.imshow(image.reshape(img_shape),\n",
        "               interpolation='nearest',\n",
        "               cmap='binary')\n",
        "\n",
        "    plt.show()"
      ],
      "execution_count": 0,
      "outputs": []
    },
    {
      "metadata": {
        "id": "XRpRPWLTbbd8",
        "colab_type": "text"
      },
      "cell_type": "markdown",
      "source": [
        "Plot an image from the test-set which will be used as an example below."
      ]
    },
    {
      "metadata": {
        "id": "R9QHsqAwbbd9",
        "colab_type": "code",
        "colab": {}
      },
      "cell_type": "code",
      "source": [
        "image1 = data.test.images[0]\n",
        "plot_image(image1)"
      ],
      "execution_count": 0,
      "outputs": []
    },
    {
      "metadata": {
        "id": "2y1zhV1MbbeA",
        "colab_type": "text"
      },
      "cell_type": "markdown",
      "source": [
        "### Output of Convolutional Layer - Method 1\n",
        "\n",
        "There are different ways of getting the output of a layer in a Keras model. This method uses a so-called K-function which turns a part of the Keras model into a function."
      ]
    },
    {
      "metadata": {
        "id": "Q3IUFB_nbbeA",
        "colab_type": "code",
        "colab": {}
      },
      "cell_type": "code",
      "source": [
        "from tensorflow.python.keras import backend as K"
      ],
      "execution_count": 0,
      "outputs": []
    },
    {
      "metadata": {
        "id": "CziArX4PbbeB",
        "colab_type": "code",
        "colab": {}
      },
      "cell_type": "code",
      "source": [
        "output_conv1 = K.function(inputs=[layer_input.input],\n",
        "                          outputs=[layer_conv1.output])"
      ],
      "execution_count": 0,
      "outputs": []
    },
    {
      "metadata": {
        "id": "NFe44cs3bbeD",
        "colab_type": "text"
      },
      "cell_type": "markdown",
      "source": [
        "We can then call this function with the input image. Note that the image is wrapped in two lists because the function expects an array of that dimensionality. Likewise, the function returns an array with one more dimensionality than we want so we just take the first element."
      ]
    },
    {
      "metadata": {
        "id": "tZaYQcVfbbeD",
        "colab_type": "code",
        "colab": {}
      },
      "cell_type": "code",
      "source": [
        "layer_output1 = output_conv1([[image1]])[0]\n",
        "layer_output1.shape"
      ],
      "execution_count": 0,
      "outputs": []
    },
    {
      "metadata": {
        "id": "d27kKhE2bbeF",
        "colab_type": "text"
      },
      "cell_type": "markdown",
      "source": [
        "We can then plot the output of all 16 channels of the convolutional layer."
      ]
    },
    {
      "metadata": {
        "id": "376-3jrJbbeG",
        "colab_type": "code",
        "colab": {}
      },
      "cell_type": "code",
      "source": [
        "plot_conv_output(values=layer_output1)"
      ],
      "execution_count": 0,
      "outputs": []
    },
    {
      "metadata": {
        "id": "sjX-wGeBbbeI",
        "colab_type": "text"
      },
      "cell_type": "markdown",
      "source": [
        "### Output of Convolutional Layer - Method 2\n",
        "\n",
        "Keras also has another method for getting the output of a layer inside the model. This creates another Functional Model using the same input as the original model, but the output is now taken from the convolutional layer that we are interested in."
      ]
    },
    {
      "metadata": {
        "id": "BzHazz2nbbeI",
        "colab_type": "code",
        "colab": {}
      },
      "cell_type": "code",
      "source": [
        "output_conv2 = Model(inputs=layer_input.input,\n",
        "                     outputs=layer_conv2.output)"
      ],
      "execution_count": 0,
      "outputs": []
    },
    {
      "metadata": {
        "id": "bDiRRuWvbbeK",
        "colab_type": "text"
      },
      "cell_type": "markdown",
      "source": [
        "This creates a new model-object where we can call the typical Keras functions. To get the output of the convoloutional layer we call the `predict()` function with the input image."
      ]
    },
    {
      "metadata": {
        "id": "OfE8fJXrbbeL",
        "colab_type": "code",
        "colab": {}
      },
      "cell_type": "code",
      "source": [
        "layer_output2 = output_conv2.predict(np.array([image1]))\n",
        "layer_output2.shape"
      ],
      "execution_count": 0,
      "outputs": []
    },
    {
      "metadata": {
        "id": "bb1djEAsbbeN",
        "colab_type": "text"
      },
      "cell_type": "markdown",
      "source": [
        "We can then plot the images for all 36 channels."
      ]
    },
    {
      "metadata": {
        "id": "zmrfvEc2bbeN",
        "colab_type": "code",
        "colab": {}
      },
      "cell_type": "code",
      "source": [
        "plot_conv_output(values=layer_output2)"
      ],
      "execution_count": 0,
      "outputs": []
    },
    {
      "metadata": {
        "id": "SfXujsgibbea",
        "colab_type": "text"
      },
      "cell_type": "markdown",
      "source": [
        "## Conclusion\n",
        "\n",
        "This tutorial showed how to use the so-called *Keras API* for easily building Convolutional Neural Networks in TensorFlow. Keras is by far the most complete and best designed API for TensorFlow.\n",
        "\n",
        "This tutorial also showed how to use Keras to save and load a model, as well as getting the weights and outputs of convolutional layers.\n",
        "\n",
        "It seems likely that Keras will be the standard API for TensorFlow in the future, for the simple reason that is already very good and it is constantly being improved. So it is recommended that you use Keras."
      ]
    },
    {
      "metadata": {
        "id": "jS9INKdmbbeb",
        "colab_type": "text"
      },
      "cell_type": "markdown",
      "source": [
        "## Exercises\n",
        "\n",
        "These are a few suggestions for exercises that may help improve your skills with TensorFlow. It is important to get hands-on experience with TensorFlow in order to learn how to use it properly.\n",
        "\n",
        "You may want to backup this Notebook before making any changes.\n",
        "\n",
        "* Train for more epochs. Does it improve the classification accuracy?\n",
        "* Change the activation function to sigmoid for some of the layers.\n",
        "* Can you find a simple way of changing the activation function for all the layers?\n",
        "* Plot the output of the max-pooling layers instead of the conv-layers.\n",
        "* Replace the 2x2 max-pooling layers with stride=2 in the convolutional layers. Is there a difference in classification accuracy? What if you optimize it again and again? The difference is random, so how would you measure if there really is a difference? What are the pros and cons of using max-pooling vs. stride in the conv-layer?\n",
        "* Change the parameters for the layers, e.g. the kernel, depth, size, etc. What is the difference in time usage and classification accuracy?\n",
        "* Add and remove some convolutional and fully-connected layers.\n",
        "* What is the simplest network you can design that still performs well?\n",
        "* Change the Functional Model so it has another convolutional layer that connects in parallel to the existing conv-layers before going into the dense layers.\n",
        "* Change the Functional Model so it outputs the predicted class both as a One-Hot encoded array and as an integer, so we don't have to use `numpy.argmax()` afterwards.\n",
        "* Remake the program yourself without looking too much at this source-code.\n",
        "* Explain to a friend how the program works."
      ]
    },
    {
      "metadata": {
        "id": "7TRY0GNKbbed",
        "colab_type": "text"
      },
      "cell_type": "markdown",
      "source": [
        "## License (MIT)\n",
        "\n",
        "Copyright (c) 2016-2017 by [Magnus Erik Hvass Pedersen](http://www.hvass-labs.org/)\n",
        "\n",
        "Permission is hereby granted, free of charge, to any person obtaining a copy of this software and associated documentation files (the \"Software\"), to deal in the Software without restriction, including without limitation the rights to use, copy, modify, merge, publish, distribute, sublicense, and/or sell copies of the Software, and to permit persons to whom the Software is furnished to do so, subject to the following conditions:\n",
        "\n",
        "The above copyright notice and this permission notice shall be included in all copies or substantial portions of the Software.\n",
        "\n",
        "THE SOFTWARE IS PROVIDED \"AS IS\", WITHOUT WARRANTY OF ANY KIND, EXPRESS OR IMPLIED, INCLUDING BUT NOT LIMITED TO THE WARRANTIES OF MERCHANTABILITY, FITNESS FOR A PARTICULAR PURPOSE AND NONINFRINGEMENT. IN NO EVENT SHALL THE AUTHORS OR COPYRIGHT HOLDERS BE LIABLE FOR ANY CLAIM, DAMAGES OR OTHER LIABILITY, WHETHER IN AN ACTION OF CONTRACT, TORT OR OTHERWISE, ARISING FROM, OUT OF OR IN CONNECTION WITH THE SOFTWARE OR THE USE OR OTHER DEALINGS IN THE SOFTWARE."
      ]
    }
  ]
}