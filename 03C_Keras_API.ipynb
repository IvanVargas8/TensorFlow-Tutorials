{
  "nbformat": 4,
  "nbformat_minor": 0,
  "metadata": {
    "colab": {
      "name": "03C_Keras_API.ipynb",
      "version": "0.3.2",
      "provenance": []
    },
    "kernelspec": {
      "display_name": "Python 3",
      "language": "python",
      "name": "python3"
    },
    "accelerator": "GPU"
  },
  "cells": [
    {
      "metadata": {
        "id": "pRdezkhobXD9",
        "colab_type": "text"
      },
      "cell_type": "markdown",
      "source": [
        "# TensorFlow Tutorial #03-C\n",
        "# Keras API\n",
        "\n",
        "by [Magnus Erik Hvass Pedersen](http://www.hvass-labs.org/)\n",
        "/ [GitHub](https://github.com/Hvass-Labs/TensorFlow-Tutorials) / [Videos on YouTube](https://www.youtube.com/playlist?list=PL9Hr9sNUjfsmEu1ZniY0XpHSzl5uihcXZ)"
      ]
    },
    {
      "metadata": {
        "id": "ltTksnPNbXEB",
        "colab_type": "text"
      },
      "cell_type": "markdown",
      "source": [
        "## Introduction\n",
        "\n",
        "Tutorial #02 showed how to implement a Convolutional Neural Network in TensorFlow. We made a few helper-functions for creating the layers in the network. It is essential to have a good high-level API because it makes it much easier to implement complex models, and it lowers the risk of errors.\n",
        "\n",
        "There are several of these builder API's available for TensorFlow: PrettyTensor (Tutorial #03), Layers API (Tutorial #03-B), and several others. But they were never really finished and now they seem to be more or less abandoned by their developers.\n",
        "\n",
        "This tutorial is about the Keras API which is already highly developed with very good documentation - and the development continues. It seems likely that Keras will be the standard API for TensorFlow in the future so it is recommended that you use it instead of the other APIs.\n",
        "\n",
        "The author of Keras has written a [blog-post](https://blog.keras.io/user-experience-design-for-apis.html) on his API design philosophy which you should read."
      ]
    },
    {
      "metadata": {
        "id": "16eJiKnwbXEE",
        "colab_type": "text"
      },
      "cell_type": "markdown",
      "source": [
        "## Flowchart"
      ]
    },
    {
      "metadata": {
        "id": "M1G5gBaJbXEG",
        "colab_type": "text"
      },
      "cell_type": "markdown",
      "source": [
        "The following chart shows roughly how the data flows in the Convolutional Neural Network that is implemented below. See Tutorial #02 for a more detailed description of convolution.\n",
        "\n",
        "There are two convolutional layers, each followed by a down-sampling using max-pooling (not shown in this flowchart). Then there are two fully-connected layers ending in a softmax-classifier."
      ]
    },
    {
      "metadata": {
        "id": "u6wLtFHvbXEK",
        "colab_type": "text"
      },
      "cell_type": "markdown",
      "source": [
        "![Flowchart](https://github.com/Hvass-Labs/TensorFlow-Tutorials/blob/master/images/02_network_flowchart.png?raw=1)"
      ]
    },
    {
      "metadata": {
        "id": "uJ_Dupw1bXEM",
        "colab_type": "text"
      },
      "cell_type": "markdown",
      "source": [
        "## Imports"
      ]
    },
    {
      "metadata": {
        "id": "-xEGIWMxbXEO",
        "colab_type": "code",
        "colab": {
          "base_uri": "https://localhost:8080/",
          "height": 17
        },
        "outputId": "f37c2b14-4dae-483c-ab54-f7ba9ff72ab4"
      },
      "cell_type": "code",
      "source": [
        "%matplotlib inline\n",
        "import matplotlib.pyplot as plt\n",
        "import tensorflow as tf\n",
        "import numpy as np\n",
        "import math"
      ],
      "execution_count": 1,
      "outputs": []
    },
    {
      "metadata": {
        "id": "dkcs0s0GbXEZ",
        "colab_type": "text"
      },
      "cell_type": "markdown",
      "source": [
        "We need to import several things from Keras. Note the long import-statements. This might be a bug. Hopefully it will be possible to write shorter and more elegant lines in the future."
      ]
    },
    {
      "metadata": {
        "id": "rzBs63g0bXEc",
        "colab_type": "code",
        "colab": {
          "base_uri": "https://localhost:8080/",
          "height": 17
        },
        "outputId": "9b23f5bc-5bc3-4960-b0b9-5951a906394f"
      },
      "cell_type": "code",
      "source": [
        "# from tf.keras.models import Sequential  # This does not work!\n",
        "from tensorflow.python.keras.models import Sequential\n",
        "from tensorflow.python.keras.layers import InputLayer, Input\n",
        "from tensorflow.python.keras.layers import Reshape, MaxPooling2D\n",
        "from tensorflow.python.keras.layers import Conv2D, Dense, Flatten"
      ],
      "execution_count": 2,
      "outputs": []
    },
    {
      "metadata": {
        "id": "W19MbQtVbXEg",
        "colab_type": "text"
      },
      "cell_type": "markdown",
      "source": [
        "This was developed using Python 3.6 (Anaconda) and TensorFlow version:"
      ]
    },
    {
      "metadata": {
        "id": "POIlwhyrbXEk",
        "colab_type": "code",
        "colab": {
          "base_uri": "https://localhost:8080/",
          "height": 36
        },
        "outputId": "b3634665-87ee-4ce2-cb1d-4b094c6e180c"
      },
      "cell_type": "code",
      "source": [
        "tf.__version__"
      ],
      "execution_count": 3,
      "outputs": [
        {
          "output_type": "execute_result",
          "data": {
            "text/plain": [
              "'1.9.0-rc2'"
            ]
          },
          "metadata": {
            "tags": []
          },
          "execution_count": 3
        }
      ]
    },
    {
      "metadata": {
        "id": "tZg8V2DdbXEq",
        "colab_type": "code",
        "colab": {
          "base_uri": "https://localhost:8080/",
          "height": 36
        },
        "outputId": "b7220770-2916-4d2e-939e-dca9a8a3b296"
      },
      "cell_type": "code",
      "source": [
        "tf.keras.__version__"
      ],
      "execution_count": 4,
      "outputs": [
        {
          "output_type": "execute_result",
          "data": {
            "text/plain": [
              "'2.1.6-tf'"
            ]
          },
          "metadata": {
            "tags": []
          },
          "execution_count": 4
        }
      ]
    },
    {
      "metadata": {
        "id": "FDydoSrbbXEy",
        "colab_type": "text"
      },
      "cell_type": "markdown",
      "source": [
        "## Load Data"
      ]
    },
    {
      "metadata": {
        "id": "FUAhDgt4bXEz",
        "colab_type": "text"
      },
      "cell_type": "markdown",
      "source": [
        "The MNIST data-set is about 12 MB and will be downloaded automatically if it is not located in the given path."
      ]
    },
    {
      "metadata": {
        "id": "gjh967_SbXE0",
        "colab_type": "code",
        "colab": {
          "base_uri": "https://localhost:8080/",
          "height": 575
        },
        "outputId": "8b41bc4e-02e8-4b47-88bf-2c98788a5fde"
      },
      "cell_type": "code",
      "source": [
        "from tensorflow.examples.tutorials.mnist import input_data\n",
        "data = input_data.read_data_sets('data/MNIST/', one_hot=True)"
      ],
      "execution_count": 5,
      "outputs": [
        {
          "output_type": "stream",
          "text": [
            "WARNING:tensorflow:From <ipython-input-5-37adf088ce13>:2: read_data_sets (from tensorflow.contrib.learn.python.learn.datasets.mnist) is deprecated and will be removed in a future version.\n",
            "Instructions for updating:\n",
            "Please use alternatives such as official/mnist/dataset.py from tensorflow/models.\n",
            "WARNING:tensorflow:From /usr/local/lib/python3.6/dist-packages/tensorflow/contrib/learn/python/learn/datasets/mnist.py:260: maybe_download (from tensorflow.contrib.learn.python.learn.datasets.base) is deprecated and will be removed in a future version.\n",
            "Instructions for updating:\n",
            "Please write your own downloading logic.\n",
            "WARNING:tensorflow:From /usr/local/lib/python3.6/dist-packages/tensorflow/contrib/learn/python/learn/datasets/base.py:252: _internal_retry.<locals>.wrap.<locals>.wrapped_fn (from tensorflow.contrib.learn.python.learn.datasets.base) is deprecated and will be removed in a future version.\n",
            "Instructions for updating:\n",
            "Please use urllib or similar directly.\n",
            "Successfully downloaded train-images-idx3-ubyte.gz 9912422 bytes.\n",
            "WARNING:tensorflow:From /usr/local/lib/python3.6/dist-packages/tensorflow/contrib/learn/python/learn/datasets/mnist.py:262: extract_images (from tensorflow.contrib.learn.python.learn.datasets.mnist) is deprecated and will be removed in a future version.\n",
            "Instructions for updating:\n",
            "Please use tf.data to implement this functionality.\n",
            "Extracting data/MNIST/train-images-idx3-ubyte.gz\n",
            "Successfully downloaded train-labels-idx1-ubyte.gz 28881 bytes.\n",
            "WARNING:tensorflow:From /usr/local/lib/python3.6/dist-packages/tensorflow/contrib/learn/python/learn/datasets/mnist.py:267: extract_labels (from tensorflow.contrib.learn.python.learn.datasets.mnist) is deprecated and will be removed in a future version.\n",
            "Instructions for updating:\n",
            "Please use tf.data to implement this functionality.\n",
            "Extracting data/MNIST/train-labels-idx1-ubyte.gz\n",
            "WARNING:tensorflow:From /usr/local/lib/python3.6/dist-packages/tensorflow/contrib/learn/python/learn/datasets/mnist.py:110: dense_to_one_hot (from tensorflow.contrib.learn.python.learn.datasets.mnist) is deprecated and will be removed in a future version.\n",
            "Instructions for updating:\n",
            "Please use tf.one_hot on tensors.\n",
            "Successfully downloaded t10k-images-idx3-ubyte.gz 1648877 bytes.\n",
            "Extracting data/MNIST/t10k-images-idx3-ubyte.gz\n",
            "Successfully downloaded t10k-labels-idx1-ubyte.gz 4542 bytes.\n",
            "Extracting data/MNIST/t10k-labels-idx1-ubyte.gz\n",
            "WARNING:tensorflow:From /usr/local/lib/python3.6/dist-packages/tensorflow/contrib/learn/python/learn/datasets/mnist.py:290: DataSet.__init__ (from tensorflow.contrib.learn.python.learn.datasets.mnist) is deprecated and will be removed in a future version.\n",
            "Instructions for updating:\n",
            "Please use alternatives such as official/mnist/dataset.py from tensorflow/models.\n"
          ],
          "name": "stdout"
        }
      ]
    },
    {
      "metadata": {
        "id": "MiYyo-MqbXFF",
        "colab_type": "text"
      },
      "cell_type": "markdown",
      "source": [
        "The MNIST data-set has now been loaded and consists of 70,000 images and associated labels (i.e. classifications of the images). The data-set is split into 3 mutually exclusive sub-sets. We will only use the training and test-sets in this tutorial."
      ]
    },
    {
      "metadata": {
        "id": "j6_HcpGobXFG",
        "colab_type": "code",
        "colab": {
          "base_uri": "https://localhost:8080/",
          "height": 91
        },
        "outputId": "f4135a5b-00a4-44e7-e6b6-38844d5aab70"
      },
      "cell_type": "code",
      "source": [
        "print(\"Size of:\")\n",
        "print(\"- Training-set:\\t\\t{}\".format(len(data.train.labels)))\n",
        "print(\"- Test-set:\\t\\t{}\".format(len(data.test.labels)))\n",
        "print(\"- Validation-set:\\t{}\".format(len(data.validation.labels)))"
      ],
      "execution_count": 6,
      "outputs": [
        {
          "output_type": "stream",
          "text": [
            "Size of:\n",
            "- Training-set:\t\t55000\n",
            "- Test-set:\t\t10000\n",
            "- Validation-set:\t5000\n"
          ],
          "name": "stdout"
        }
      ]
    },
    {
      "metadata": {
        "id": "5HNwNExwbXFQ",
        "colab_type": "text"
      },
      "cell_type": "markdown",
      "source": [
        "The class-labels are One-Hot encoded, which means that each label is a vector with 10 elements, all of which are zero except for one element. The index of this one element is the class-number, that is, the digit shown in the associated image. We also need the class-numbers as integers for the test-set, so we calculate it now."
      ]
    },
    {
      "metadata": {
        "id": "dOxd3dbCbXFR",
        "colab_type": "code",
        "colab": {
          "base_uri": "https://localhost:8080/",
          "height": 17
        },
        "outputId": "86069b58-6221-4111-eef8-17cf080a3746"
      },
      "cell_type": "code",
      "source": [
        "data.test.cls = np.argmax(data.test.labels, axis=1)"
      ],
      "execution_count": 7,
      "outputs": []
    },
    {
      "metadata": {
        "id": "ld0JOHiYbXFV",
        "colab_type": "text"
      },
      "cell_type": "markdown",
      "source": [
        "## Data Dimensions"
      ]
    },
    {
      "metadata": {
        "id": "XbfuNp7lbXFX",
        "colab_type": "text"
      },
      "cell_type": "markdown",
      "source": [
        "The data dimensions are used in several places in the source-code below. They are defined once so we can use these variables instead of numbers throughout the source-code below."
      ]
    },
    {
      "metadata": {
        "id": "yPToc8jRbXFY",
        "colab_type": "code",
        "colab": {
          "base_uri": "https://localhost:8080/",
          "height": 0
        },
        "outputId": "e3477d44-fd89-4ef7-d2bf-f42735e2d5ff"
      },
      "cell_type": "code",
      "source": [
        "# We know that MNIST images are 28 pixels in each dimension.\n",
        "img_size = 28\n",
        "\n",
        "# Images are stored in one-dimensional arrays of this length.\n",
        "img_size_flat = img_size * img_size\n",
        "\n",
        "# Tuple with height and width of images used to reshape arrays.\n",
        "# This is used for plotting the images.\n",
        "img_shape = (img_size, img_size)\n",
        "\n",
        "# Tuple with height, width and depth used to reshape arrays.\n",
        "# This is used for reshaping in Keras.\n",
        "img_shape_full = (img_size, img_size, 1)\n",
        "\n",
        "# Number of colour channels for the images: 1 channel for gray-scale.\n",
        "num_channels = 1\n",
        "\n",
        "# Number of classes, one class for each of 10 digits.\n",
        "num_classes = 10"
      ],
      "execution_count": 8,
      "outputs": []
    },
    {
      "metadata": {
        "id": "Y4pIAHKhbXFc",
        "colab_type": "text"
      },
      "cell_type": "markdown",
      "source": [
        "### Helper-function for plotting images"
      ]
    },
    {
      "metadata": {
        "id": "H90DrFFZbXFe",
        "colab_type": "text"
      },
      "cell_type": "markdown",
      "source": [
        "Function used to plot 9 images in a 3x3 grid, and writing the true and predicted classes below each image."
      ]
    },
    {
      "metadata": {
        "id": "jjXRfyLRbXFf",
        "colab_type": "code",
        "colab": {
          "base_uri": "https://localhost:8080/",
          "height": 0
        },
        "outputId": "cf9e8b47-4304-4e81-a27d-658fb724691c"
      },
      "cell_type": "code",
      "source": [
        "def plot_images(images, cls_true, cls_pred=None):\n",
        "    assert len(images) == len(cls_true) == 9\n",
        "    \n",
        "    # Create figure with 3x3 sub-plots.\n",
        "    fig, axes = plt.subplots(3, 3)\n",
        "    fig.subplots_adjust(hspace=0.3, wspace=0.3)\n",
        "\n",
        "    for i, ax in enumerate(axes.flat):\n",
        "        # Plot image.\n",
        "        ax.imshow(images[i].reshape(img_shape), cmap='binary')\n",
        "\n",
        "        # Show true and predicted classes.\n",
        "        if cls_pred is None:\n",
        "            xlabel = \"True: {0}\".format(cls_true[i])\n",
        "        else:\n",
        "            xlabel = \"True: {0}, Pred: {1}\".format(cls_true[i], cls_pred[i])\n",
        "\n",
        "        # Show the classes as the label on the x-axis.\n",
        "        ax.set_xlabel(xlabel)\n",
        "        \n",
        "        # Remove ticks from the plot.\n",
        "        ax.set_xticks([])\n",
        "        ax.set_yticks([])\n",
        "    \n",
        "    # Ensure the plot is shown correctly with multiple plots\n",
        "    # in a single Notebook cell.\n",
        "    plt.show()"
      ],
      "execution_count": 9,
      "outputs": []
    },
    {
      "metadata": {
        "id": "XWtWLgVdbXFk",
        "colab_type": "text"
      },
      "cell_type": "markdown",
      "source": [
        "### Plot a few images to see if data is correct"
      ]
    },
    {
      "metadata": {
        "id": "lx27MIY7bXFl",
        "colab_type": "code",
        "colab": {
          "base_uri": "https://localhost:8080/",
          "height": 0
        },
        "outputId": "d5e61295-7375-4700-fea9-b3ab7e664a2f"
      },
      "cell_type": "code",
      "source": [
        "# Get the first images from the test-set.\n",
        "images = data.test.images[0:9]\n",
        "\n",
        "# Get the true classes for those images.\n",
        "cls_true = data.test.cls[0:9]\n",
        "\n",
        "# Plot the images and labels using our helper-function above.\n",
        "plot_images(images=images, cls_true=cls_true)"
      ],
      "execution_count": 10,
      "outputs": [
        {
          "output_type": "display_data",
          "data": {
            "image/png": "[encoded data removed]",
            "text/plain": [
              "<matplotlib.figure.Figure at 0x7fd906850e48>"
            ]
          },
          "metadata": {
            "tags": []
          }
        }
      ]
    },
    {
      "metadata": {
        "id": "_k8azE6YbXFr",
        "colab_type": "text"
      },
      "cell_type": "markdown",
      "source": [
        "### Helper-function to plot example errors\n",
        "\n",
        "Function for plotting examples of images from the test-set that have been mis-classified."
      ]
    },
    {
      "metadata": {
        "id": "Hq-dBa1nbXFs",
        "colab_type": "code",
        "colab": {
          "base_uri": "https://localhost:8080/",
          "height": 0
        },
        "outputId": "646876fa-299d-49bb-cc19-08ed7419ad29"
      },
      "cell_type": "code",
      "source": [
        "def plot_example_errors(cls_pred):\n",
        "    # cls_pred is an array of the predicted class-number for\n",
        "    # all images in the test-set.\n",
        "\n",
        "    # Boolean array whether the predicted class is incorrect.\n",
        "    incorrect = (cls_pred != data.test.cls)\n",
        "\n",
        "    # Get the images from the test-set that have been\n",
        "    # incorrectly classified.\n",
        "    images = data.test.images[incorrect]\n",
        "    \n",
        "    # Get the predicted classes for those images.\n",
        "    cls_pred = cls_pred[incorrect]\n",
        "\n",
        "    # Get the true classes for those images.\n",
        "    cls_true = data.test.cls[incorrect]\n",
        "    \n",
        "    # Plot the first 9 images.\n",
        "    plot_images(images=images[0:9],\n",
        "                cls_true=cls_true[0:9],\n",
        "                cls_pred=cls_pred[0:9])"
      ],
      "execution_count": 11,
      "outputs": []
    },
    {
      "metadata": {
        "id": "HUXJdMpYbXF0",
        "colab_type": "text"
      },
      "cell_type": "markdown",
      "source": [
        "## PrettyTensor API\n",
        "\n",
        "This is how the Convolutional Neural Network was implemented in Tutorial #03 using the PrettyTensor API. It is shown here for easy comparison to the Keras implementation below."
      ]
    },
    {
      "metadata": {
        "id": "ItCmynuKbXF1",
        "colab_type": "code",
        "colab": {
          "base_uri": "https://localhost:8080/",
          "height": 0
        },
        "outputId": "cd306a5d-cb75-4e15-9a31-edadde71ee93"
      },
      "cell_type": "code",
      "source": [
        "if False:\n",
        "    x_pretty = pt.wrap(x_image)\n",
        "\n",
        "    with pt.defaults_scope(activation_fn=tf.nn.relu):\n",
        "        y_pred, loss = x_pretty.\\\n",
        "            conv2d(kernel=5, depth=16, name='layer_conv1').\\\n",
        "            max_pool(kernel=2, stride=2).\\\n",
        "            conv2d(kernel=5, depth=36, name='layer_conv2').\\\n",
        "            max_pool(kernel=2, stride=2).\\\n",
        "            flatten().\\\n",
        "            fully_connected(size=128, name='layer_fc1').\\\n",
        "            softmax_classifier(num_classes=num_classes, labels=y_true)"
      ],
      "execution_count": 12,
      "outputs": []
    },
    {
      "metadata": {
        "id": "OCtmJLJqbXF6",
        "colab_type": "text"
      },
      "cell_type": "markdown",
      "source": [
        "## Sequential Model\n",
        "\n",
        "The Keras API has two modes of constructing Neural Networks. The simplest is the Sequential Model which only allows for the layers to be added in sequence."
      ]
    },
    {
      "metadata": {
        "id": "BX_NtJ38bXF8",
        "colab_type": "code",
        "colab": {
          "base_uri": "https://localhost:8080/",
          "height": 17
        },
        "outputId": "deeab6a0-e305-4f87-8fd6-b165cfdfe45a"
      },
      "cell_type": "code",
      "source": [
        "# Start construction of the Keras Sequential model.\n",
        "model = Sequential()\n",
        "\n",
        "# Add an input layer which is similar to a feed_dict in TensorFlow.\n",
        "# Note that the input-shape must be a tuple containing the image-size.\n",
        "model.add(InputLayer(input_shape=(img_size_flat,)))\n",
        "\n",
        "# The input is a flattened array with 784 elements,\n",
        "# but the convolutional layers expect images with shape (28, 28, 1)\n",
        "model.add(Reshape(img_shape_full))\n",
        "\n",
        "# First convolutional layer with ReLU-activation and max-pooling.\n",
        "model.add(Conv2D(kernel_size=5, strides=1, filters=16, padding='same',\n",
        "                 activation='relu', name='layer_conv1'))\n",
        "model.add(MaxPooling2D(pool_size=2, strides=2))\n",
        "\n",
        "# Second convolutional layer with ReLU-activation and max-pooling.\n",
        "model.add(Conv2D(kernel_size=5, strides=1, filters=36, padding='same',\n",
        "                 activation='relu', name='layer_conv2'))\n",
        "model.add(MaxPooling2D(pool_size=2, strides=2))\n",
        "\n",
        "# Flatten the 4-rank output of the convolutional layers\n",
        "# to 2-rank that can be input to a fully-connected / dense layer.\n",
        "model.add(Flatten())\n",
        "\n",
        "# First fully-connected / dense layer with ReLU-activation.\n",
        "model.add(Dense(128, activation='relu'))\n",
        "\n",
        "# Last fully-connected / dense layer with softmax-activation\n",
        "# for use in classification.\n",
        "model.add(Dense(num_classes, activation='softmax'))"
      ],
      "execution_count": 13,
      "outputs": []
    },
    {
      "metadata": {
        "id": "20Hk2088bXGC",
        "colab_type": "text"
      },
      "cell_type": "markdown",
      "source": [
        "### Model Compilation\n",
        "\n",
        "The Neural Network has now been defined and must be finalized by adding a loss-function, optimizer and performance metrics. This is called model \"compilation\" in Keras.\n",
        "\n",
        "We can either define the optimizer using a string, or if we want more control of its parameters then we need to instantiate an object. For example, we can set the learning-rate."
      ]
    },
    {
      "metadata": {
        "id": "CCxDr9rYbXGE",
        "colab_type": "code",
        "colab": {
          "base_uri": "https://localhost:8080/",
          "height": 0
        },
        "outputId": "e3323f96-c9f6-4e95-e552-fe21ee5da98a"
      },
      "cell_type": "code",
      "source": [
        "from tensorflow.python.keras.optimizers import Adam\n",
        "\n",
        "optimizer = Adam(lr=1e-3)"
      ],
      "execution_count": 14,
      "outputs": []
    },
    {
      "metadata": {
        "id": "kPjO2t2JbXGL",
        "colab_type": "text"
      },
      "cell_type": "markdown",
      "source": [
        "For a classification-problem such as MNIST which has 10 possible classes, we need to use the loss-function called `categorical_crossentropy`. The performance metric we are interested in is the classification accuracy."
      ]
    },
    {
      "metadata": {
        "id": "O022gG38bXGO",
        "colab_type": "code",
        "colab": {
          "base_uri": "https://localhost:8080/",
          "height": 0
        },
        "outputId": "35defb85-1ae7-41ed-d151-0dd1f24dc36c"
      },
      "cell_type": "code",
      "source": [
        "model.compile(optimizer=optimizer,\n",
        "              loss='categorical_crossentropy',\n",
        "              metrics=['accuracy'])"
      ],
      "execution_count": 15,
      "outputs": []
    },
    {
      "metadata": {
        "id": "PVhOVwYdbXGT",
        "colab_type": "text"
      },
      "cell_type": "markdown",
      "source": [
        "### Training\n",
        "\n",
        "Now that the model has been fully defined with loss-function and optimizer, we can train it. This function takes numpy-arrays and performs the given number of training epochs using the given batch-size. An epoch is one full use of the entire training-set. So for 10 epochs we would iterate randomly over the entire training-set 10 times."
      ]
    },
    {
      "metadata": {
        "id": "Z1ZidtRsbXGW",
        "colab_type": "code",
        "colab": {
          "base_uri": "https://localhost:8080/",
          "height": 93
        },
        "outputId": "8d61c2dc-0d22-44f1-a06d-13b61230413e"
      },
      "cell_type": "code",
      "source": [
        "model.fit(x=data.train.images,\n",
        "          y=data.train.labels,\n",
        "          epochs=1, batch_size=128)"
      ],
      "execution_count": 16,
      "outputs": [
        {
          "output_type": "stream",
          "text": [
            "Epoch 1/1\n",
            "55000/55000 [==============================] - 7s 119us/step - loss: 0.2152 - acc: 0.9357\n"
          ],
          "name": "stdout"
        },
        {
          "output_type": "execute_result",
          "data": {
            "text/plain": [
              "<tensorflow.python.keras.callbacks.History at 0x7fd9039a2f60>"
            ]
          },
          "metadata": {
            "tags": []
          },
          "execution_count": 16
        }
      ]
    },
    {
      "metadata": {
        "id": "nzW0yWecbXGZ",
        "colab_type": "text"
      },
      "cell_type": "markdown",
      "source": [
        "### Evaluation\n",
        "\n",
        "Now that the model has been trained we can test its performance on the test-set. This also uses numpy-arrays as input."
      ]
    },
    {
      "metadata": {
        "id": "Ve6ux8aVbXGa",
        "colab_type": "code",
        "colab": {
          "base_uri": "https://localhost:8080/",
          "height": 36
        },
        "outputId": "8eb0d87e-1552-4011-a0c5-b32252b096f9"
      },
      "cell_type": "code",
      "source": [
        "result = model.evaluate(x=data.test.images,\n",
        "                        y=data.test.labels)"
      ],
      "execution_count": 17,
      "outputs": [
        {
          "output_type": "stream",
          "text": [
            "10000/10000 [==============================] - 1s 72us/step\n"
          ],
          "name": "stdout"
        }
      ]
    },
    {
      "metadata": {
        "id": "cCe24XszbXGe",
        "colab_type": "text"
      },
      "cell_type": "markdown",
      "source": [
        "We can print all the performance metrics for the test-set."
      ]
    },
    {
      "metadata": {
        "id": "qI5aGRWtbXGi",
        "colab_type": "code",
        "colab": {
          "base_uri": "https://localhost:8080/",
          "height": 54
        },
        "outputId": "e91d960e-14a2-4b83-ae9d-735dac6e5cab"
      },
      "cell_type": "code",
      "source": [
        "for name, value in zip(model.metrics_names, result):\n",
        "    print(name, value)"
      ],
      "execution_count": 18,
      "outputs": [
        {
          "output_type": "stream",
          "text": [
            "loss 0.05830576839623973\n",
            "acc 0.9819\n"
          ],
          "name": "stdout"
        }
      ]
    },
    {
      "metadata": {
        "id": "6cLNve5KbXGp",
        "colab_type": "text"
      },
      "cell_type": "markdown",
      "source": [
        "Or we can just print the classification accuracy."
      ]
    },
    {
      "metadata": {
        "id": "avdxzWyTbXGp",
        "colab_type": "code",
        "colab": {
          "base_uri": "https://localhost:8080/",
          "height": 36
        },
        "outputId": "4404646b-a5e6-41a0-82c1-a48c6b182c43"
      },
      "cell_type": "code",
      "source": [
        "print(\"{0}: {1:.2%}\".format(model.metrics_names[1], result[1]))"
      ],
      "execution_count": 19,
      "outputs": [
        {
          "output_type": "stream",
          "text": [
            "acc: 98.19%\n"
          ],
          "name": "stdout"
        }
      ]
    },
    {
      "metadata": {
        "id": "nFtNFAaHbXGt",
        "colab_type": "text"
      },
      "cell_type": "markdown",
      "source": [
        "### Prediction\n",
        "\n",
        "We can also predict the classification for new images. We will just use some images from the test-set but you could load your own images into numpy arrays and use those instead."
      ]
    },
    {
      "metadata": {
        "id": "e0NGlyJbbXGv",
        "colab_type": "code",
        "colab": {
          "base_uri": "https://localhost:8080/",
          "height": 17
        },
        "outputId": "29a9e279-7425-4c3b-df6d-9d4b9daaba4e"
      },
      "cell_type": "code",
      "source": [
        "images = data.test.images[0:9]"
      ],
      "execution_count": 20,
      "outputs": []
    },
    {
      "metadata": {
        "id": "PZBb8Hp_bXGz",
        "colab_type": "text"
      },
      "cell_type": "markdown",
      "source": [
        "These are the true class-number for those images. This is only used when plotting the images."
      ]
    },
    {
      "metadata": {
        "id": "rF2ovMsebXGz",
        "colab_type": "code",
        "colab": {
          "base_uri": "https://localhost:8080/",
          "height": 17
        },
        "outputId": "2271c294-fb08-493e-fab0-00c4c36c6836"
      },
      "cell_type": "code",
      "source": [
        "cls_true = data.test.cls[0:9]"
      ],
      "execution_count": 21,
      "outputs": []
    },
    {
      "metadata": {
        "id": "e41XsWmGbXG5",
        "colab_type": "text"
      },
      "cell_type": "markdown",
      "source": [
        "Get the predicted classes as One-Hot encoded arrays."
      ]
    },
    {
      "metadata": {
        "id": "Ofag3GVibXG7",
        "colab_type": "code",
        "colab": {
          "base_uri": "https://localhost:8080/",
          "height": 17
        },
        "outputId": "a744008f-4ef7-4d70-f954-2e8921c5b96b"
      },
      "cell_type": "code",
      "source": [
        "y_pred = model.predict(x=images)"
      ],
      "execution_count": 22,
      "outputs": []
    },
    {
      "metadata": {
        "id": "V-D5INkKbXG9",
        "colab_type": "text"
      },
      "cell_type": "markdown",
      "source": [
        "Get the predicted classes as integers."
      ]
    },
    {
      "metadata": {
        "id": "gxkKzJzXbXG-",
        "colab_type": "code",
        "colab": {
          "base_uri": "https://localhost:8080/",
          "height": 17
        },
        "outputId": "312952d3-cf3b-4a18-8998-6a9edbd93205"
      },
      "cell_type": "code",
      "source": [
        "cls_pred = np.argmax(y_pred,axis=1)"
      ],
      "execution_count": 23,
      "outputs": []
    },
    {
      "metadata": {
        "id": "8NtcOCZHbXHA",
        "colab_type": "code",
        "colab": {
          "base_uri": "https://localhost:8080/",
          "height": 262
        },
        "outputId": "d8f19625-c1c1-416c-fc1e-c373217c3f23"
      },
      "cell_type": "code",
      "source": [
        "plot_images(images=images,\n",
        "            cls_true=cls_true,\n",
        "            cls_pred=cls_pred)"
      ],
      "execution_count": 24,
      "outputs": [
        {
          "output_type": "display_data",
          "data": {
            "image/png": "[encoded data removed]",
            "text/plain": [
              "<matplotlib.figure.Figure at 0x7fd8e8926da0>"
            ]
          },
          "metadata": {
            "tags": []
          }
        }
      ]
    },
    {
      "metadata": {
        "id": "H95jup2CbXHF",
        "colab_type": "text"
      },
      "cell_type": "markdown",
      "source": [
        "### Examples of Mis-Classified Images\n",
        "\n",
        "We can plot some examples of mis-classified images from the test-set.\n",
        "\n",
        "First we get the predicted classes for all the images in the test-set:"
      ]
    },
    {
      "metadata": {
        "id": "prQNmSpXbXHF",
        "colab_type": "code",
        "colab": {
          "base_uri": "https://localhost:8080/",
          "height": 0
        },
        "outputId": "6aa6449b-5acb-4f74-afde-0fc6edbb5ce9"
      },
      "cell_type": "code",
      "source": [
        "y_pred = model.predict(x=data.test.images)"
      ],
      "execution_count": 25,
      "outputs": []
    },
    {
      "metadata": {
        "id": "0xv7gB3sbXHI",
        "colab_type": "text"
      },
      "cell_type": "markdown",
      "source": [
        "Then we convert the predicted class-numbers from One-Hot encoded arrays to integers."
      ]
    },
    {
      "metadata": {
        "id": "SyQgIQZ0bXHI",
        "colab_type": "code",
        "colab": {
          "base_uri": "https://localhost:8080/",
          "height": 0
        },
        "outputId": "5e1a25d4-e0eb-4ed8-ce06-f5edaef2e2a1"
      },
      "cell_type": "code",
      "source": [
        "cls_pred = np.argmax(y_pred,axis=1)"
      ],
      "execution_count": 26,
      "outputs": []
    },
    {
      "metadata": {
        "id": "6u2nzkEzbXHN",
        "colab_type": "text"
      },
      "cell_type": "markdown",
      "source": [
        "Plot some of the mis-classified images."
      ]
    },
    {
      "metadata": {
        "id": "KpP_Or6bbXHO",
        "colab_type": "code",
        "colab": {
          "base_uri": "https://localhost:8080/",
          "height": 0
        },
        "outputId": "f1cd0bd4-6de2-41f1-da82-7ac09fe1e27b"
      },
      "cell_type": "code",
      "source": [
        "plot_example_errors(cls_pred)"
      ],
      "execution_count": 27,
      "outputs": [
        {
          "output_type": "display_data",
          "data": {
            "image/png": "[encoded data removed]",
            "text/plain": [
              "<matplotlib.figure.Figure at 0x7fd8e89269b0>"
            ]
          },
          "metadata": {
            "tags": []
          }
        }
      ]
    },
    {
      "metadata": {
        "id": "v83ySRBcbXHS",
        "colab_type": "text"
      },
      "cell_type": "markdown",
      "source": [
        "## Functional Model\n",
        "\n",
        "The Keras API can also be used to construct more complicated networks using the Functional Model. This may look a little confusing at first, because each call to the Keras API will create and return an instance that is itself callable. It is not clear whether it is a function or an object - but we can call it as if it is a function. This allows us to build computational graphs that are more complex than the Sequential Model allows."
      ]
    },
    {
      "metadata": {
        "id": "6uwHu5mvbXHW",
        "colab_type": "code",
        "colab": {
          "base_uri": "https://localhost:8080/",
          "height": 0
        },
        "outputId": "8d164f5b-75a2-48e1-e704-5e31ba5ef0c6"
      },
      "cell_type": "code",
      "source": [
        "# Create an input layer which is similar to a feed_dict in TensorFlow.\n",
        "# Note that the input-shape must be a tuple containing the image-size.\n",
        "inputs = Input(shape=(img_size_flat,))\n",
        "\n",
        "# Variable used for building the Neural Network.\n",
        "net = inputs\n",
        "\n",
        "# The input is an image as a flattened array with 784 elements.\n",
        "# But the convolutional layers expect images with shape (28, 28, 1)\n",
        "net = Reshape(img_shape_full)(net)\n",
        "\n",
        "# First convolutional layer with ReLU-activation and max-pooling.\n",
        "net = Conv2D(kernel_size=5, strides=1, filters=16, padding='same',\n",
        "             activation='relu', name='layer_conv1')(net)\n",
        "net = MaxPooling2D(pool_size=2, strides=2)(net)\n",
        "\n",
        "# Second convolutional layer with ReLU-activation and max-pooling.\n",
        "net = Conv2D(kernel_size=5, strides=1, filters=36, padding='same',\n",
        "             activation='relu', name='layer_conv2')(net)\n",
        "net = MaxPooling2D(pool_size=2, strides=2)(net)\n",
        "\n",
        "# Flatten the output of the conv-layer from 4-dim to 2-dim.\n",
        "net = Flatten()(net)\n",
        "\n",
        "# First fully-connected / dense layer with ReLU-activation.\n",
        "net = Dense(128, activation='relu')(net)\n",
        "\n",
        "# Last fully-connected / dense layer with softmax-activation\n",
        "# so it can be used for classification.\n",
        "net = Dense(num_classes, activation='softmax')(net)\n",
        "\n",
        "# Output of the Neural Network.\n",
        "outputs = net"
      ],
      "execution_count": 28,
      "outputs": []
    },
    {
      "metadata": {
        "id": "3eysQQXAbXHZ",
        "colab_type": "text"
      },
      "cell_type": "markdown",
      "source": [
        "### Model Compilation\n",
        "\n",
        "We have now defined the architecture of the model with its input and output. We now have to create a Keras model and compile it with a loss-function and optimizer, so it is ready for training."
      ]
    },
    {
      "metadata": {
        "id": "v7TEMcDzbXHZ",
        "colab_type": "code",
        "colab": {
          "base_uri": "https://localhost:8080/",
          "height": 0
        },
        "outputId": "81a80a80-e330-4562-9205-cd477793b6f4"
      },
      "cell_type": "code",
      "source": [
        "from tensorflow.python.keras.models import Model"
      ],
      "execution_count": 29,
      "outputs": []
    },
    {
      "metadata": {
        "id": "JVVoJ0hrbXHe",
        "colab_type": "text"
      },
      "cell_type": "markdown",
      "source": [
        "Create a new instance of the Keras Functional Model. We give it the inputs and outputs of the Convolutional Neural Network that we constructed above."
      ]
    },
    {
      "metadata": {
        "id": "9SakcF8hbXHe",
        "colab_type": "code",
        "colab": {
          "base_uri": "https://localhost:8080/",
          "height": 0
        },
        "outputId": "5dafb7a4-92c9-4e1b-d01b-239f66f248ce"
      },
      "cell_type": "code",
      "source": [
        "model2 = Model(inputs=inputs, outputs=outputs)"
      ],
      "execution_count": 30,
      "outputs": []
    },
    {
      "metadata": {
        "id": "xp0mK1Q9bXHh",
        "colab_type": "text"
      },
      "cell_type": "markdown",
      "source": [
        "Compile the Keras model using the `rmsprop` optimizer and with a loss-function for multiple categories. The only performance metric we are interested in is the classification accuracy, but you could use a list of metrics here."
      ]
    },
    {
      "metadata": {
        "id": "s5ndK-FebXHi",
        "colab_type": "code",
        "colab": {
          "base_uri": "https://localhost:8080/",
          "height": 0
        },
        "outputId": "0f78ea95-c26d-4e18-c3fa-181cb13e664a"
      },
      "cell_type": "code",
      "source": [
        "model2.compile(optimizer='rmsprop',\n",
        "               loss='categorical_crossentropy',\n",
        "               metrics=['accuracy'])"
      ],
      "execution_count": 31,
      "outputs": []
    },
    {
      "metadata": {
        "id": "c0LlCQ1jbXHq",
        "colab_type": "text"
      },
      "cell_type": "markdown",
      "source": [
        "### Training\n",
        "\n",
        "The model has now been defined and compiled so it can be trained using the same `fit()` function as used in the Sequential Model above. This also takes numpy-arrays as input."
      ]
    },
    {
      "metadata": {
        "id": "5yuMD4EVbXHq",
        "colab_type": "code",
        "colab": {
          "base_uri": "https://localhost:8080/",
          "height": 0
        },
        "outputId": "446b2d4f-41cb-40f6-ed6d-d4060a9cbfd9"
      },
      "cell_type": "code",
      "source": [
        "model2.fit(x=data.train.images,\n",
        "           y=data.train.labels,\n",
        "           epochs=1, batch_size=128)"
      ],
      "execution_count": 32,
      "outputs": [
        {
          "output_type": "stream",
          "text": [
            "Epoch 1/1\n",
            "55000/55000 [==============================] - 4s 79us/step - loss: 0.2047 - acc: 0.9362\n"
          ],
          "name": "stdout"
        },
        {
          "output_type": "execute_result",
          "data": {
            "text/plain": [
              "<tensorflow.python.keras.callbacks.History at 0x7fd8d39f3828>"
            ]
          },
          "metadata": {
            "tags": []
          },
          "execution_count": 32
        }
      ]
    },
    {
      "metadata": {
        "id": "yebapErcbXHt",
        "colab_type": "text"
      },
      "cell_type": "markdown",
      "source": [
        "### Evaluation\n",
        "\n",
        "Once the model has been trained we can evaluate its performance on the test-set. This is the same syntax as for the Sequential Model."
      ]
    },
    {
      "metadata": {
        "id": "tvz_z5SqbXHu",
        "colab_type": "code",
        "colab": {
          "base_uri": "https://localhost:8080/",
          "height": 0
        },
        "outputId": "87f37075-f347-41e8-a212-fca6e6703a55"
      },
      "cell_type": "code",
      "source": [
        "result = model2.evaluate(x=data.test.images,\n",
        "                         y=data.test.labels)"
      ],
      "execution_count": 33,
      "outputs": [
        {
          "output_type": "stream",
          "text": [
            "10000/10000 [==============================] - 1s 70us/step\n"
          ],
          "name": "stdout"
        }
      ]
    },
    {
      "metadata": {
        "id": "ntdBgZx8bXHy",
        "colab_type": "text"
      },
      "cell_type": "markdown",
      "source": [
        "The result is a list of values, containing the loss-value and all the metrics we defined when we compiled the model. Note that 'accuracy' is now called 'acc' which is a small inconsistency."
      ]
    },
    {
      "metadata": {
        "id": "ktdlUOjkbXHz",
        "colab_type": "code",
        "colab": {
          "base_uri": "https://localhost:8080/",
          "height": 0
        },
        "outputId": "d1c744f2-811b-4624-e5b6-158a821a2652"
      },
      "cell_type": "code",
      "source": [
        "for name, value in zip(model2.metrics_names, result):\n",
        "    print(name, value)"
      ],
      "execution_count": 34,
      "outputs": [
        {
          "output_type": "stream",
          "text": [
            "loss 0.06822781029161998\n",
            "acc 0.9782\n"
          ],
          "name": "stdout"
        }
      ]
    },
    {
      "metadata": {
        "id": "yszLcWbibXH2",
        "colab_type": "text"
      },
      "cell_type": "markdown",
      "source": [
        "We can also print the classification accuracy as a percentage:"
      ]
    },
    {
      "metadata": {
        "id": "7qIOqaUobXH2",
        "colab_type": "code",
        "colab": {
          "base_uri": "https://localhost:8080/",
          "height": 0
        },
        "outputId": "1c92ff5a-3dcd-4ca6-95f3-e1a63a912269"
      },
      "cell_type": "code",
      "source": [
        "print(\"{0}: {1:.2%}\".format(model2.metrics_names[1], result[1]))"
      ],
      "execution_count": 35,
      "outputs": [
        {
          "output_type": "stream",
          "text": [
            "acc: 97.82%\n"
          ],
          "name": "stdout"
        }
      ]
    },
    {
      "metadata": {
        "id": "YmteidWubXH5",
        "colab_type": "text"
      },
      "cell_type": "markdown",
      "source": [
        "### Examples of Mis-Classified Images\n",
        "\n",
        "We can plot some examples of mis-classified images from the test-set.\n",
        "\n",
        "First we get the predicted classes for all the images in the test-set:"
      ]
    },
    {
      "metadata": {
        "id": "_50TE7sxbXH6",
        "colab_type": "code",
        "colab": {
          "base_uri": "https://localhost:8080/",
          "height": 0
        },
        "outputId": "2a9514db-9aba-4798-9bbb-0f70efa77802"
      },
      "cell_type": "code",
      "source": [
        "y_pred = model2.predict(x=data.test.images)"
      ],
      "execution_count": 36,
      "outputs": []
    },
    {
      "metadata": {
        "id": "Y6x-534JbXH7",
        "colab_type": "text"
      },
      "cell_type": "markdown",
      "source": [
        "Then we convert the predicted class-numbers from One-Hot encoded arrays to integers."
      ]
    },
    {
      "metadata": {
        "id": "7N54wAArbXH7",
        "colab_type": "code",
        "colab": {
          "base_uri": "https://localhost:8080/",
          "height": 0
        },
        "outputId": "924c71ec-ae7b-418b-8425-2881bee2ae8a"
      },
      "cell_type": "code",
      "source": [
        "cls_pred = np.argmax(y_pred, axis=1)"
      ],
      "execution_count": 37,
      "outputs": []
    },
    {
      "metadata": {
        "id": "cCrPF-4bbXIB",
        "colab_type": "text"
      },
      "cell_type": "markdown",
      "source": [
        "Plot some of the mis-classified images."
      ]
    },
    {
      "metadata": {
        "id": "8JiMgkFpbXIC",
        "colab_type": "code",
        "colab": {
          "base_uri": "https://localhost:8080/",
          "height": 0
        },
        "outputId": "518c2dcc-1046-4172-d0da-1d67b075a24b"
      },
      "cell_type": "code",
      "source": [
        "plot_example_errors(cls_pred)"
      ],
      "execution_count": 38,
      "outputs": [
        {
          "output_type": "display_data",
          "data": {
            "image/png": "[encoded data removed]",
            "text/plain": [
              "<matplotlib.figure.Figure at 0x7fd903637c18>"
            ]
          },
          "metadata": {
            "tags": []
          }
        }
      ]
    },
    {
      "metadata": {
        "id": "TBG3o0PSbXIF",
        "colab_type": "text"
      },
      "cell_type": "markdown",
      "source": [
        "## Save & Load Model\n",
        "\n",
        "NOTE: You need to install `h5py` for this to work!\n",
        "\n",
        "Tutorial #04 was about saving and restoring the weights of a model using native TensorFlow code. It was an absolutely horrible API! Fortunately, Keras makes this very easy.\n",
        "\n",
        "This is the file-path where we want to save the Keras model."
      ]
    },
    {
      "metadata": {
        "id": "gjL6txhtbXIG",
        "colab_type": "code",
        "colab": {
          "base_uri": "https://localhost:8080/",
          "height": 0
        },
        "outputId": "69ede8f4-6b1f-498b-fb6c-878a8ffb9d06"
      },
      "cell_type": "code",
      "source": [
        "path_model = 'model.keras'"
      ],
      "execution_count": 39,
      "outputs": []
    },
    {
      "metadata": {
        "id": "HVblLuZObXIH",
        "colab_type": "text"
      },
      "cell_type": "markdown",
      "source": [
        "Saving a Keras model with the trained weights is then just a single function call, as it should be."
      ]
    },
    {
      "metadata": {
        "id": "sHwaA4C9bXII",
        "colab_type": "code",
        "colab": {
          "base_uri": "https://localhost:8080/",
          "height": 0
        },
        "outputId": "e3fca0cc-3a77-4b67-fa49-3eda424a4550"
      },
      "cell_type": "code",
      "source": [
        "model2.save(path_model)"
      ],
      "execution_count": 40,
      "outputs": []
    },
    {
      "metadata": {
        "id": "5Kx6lo-zbXIJ",
        "colab_type": "text"
      },
      "cell_type": "markdown",
      "source": [
        "Delete the model from memory so we are sure it is no longer used."
      ]
    },
    {
      "metadata": {
        "id": "1pWG4XjEbXIK",
        "colab_type": "code",
        "colab": {
          "base_uri": "https://localhost:8080/",
          "height": 0
        },
        "outputId": "1ecfda86-de54-42cf-9bc2-7f9b46075f45"
      },
      "cell_type": "code",
      "source": [
        "del model2"
      ],
      "execution_count": 41,
      "outputs": []
    },
    {
      "metadata": {
        "id": "K4PrHG8lbXIS",
        "colab_type": "text"
      },
      "cell_type": "markdown",
      "source": [
        "We need to import this Keras function for loading the model."
      ]
    },
    {
      "metadata": {
        "id": "ZWYEnX5gbXIS",
        "colab_type": "code",
        "colab": {
          "base_uri": "https://localhost:8080/",
          "height": 0
        },
        "outputId": "ee6f554d-0021-492c-e562-589d27277d28"
      },
      "cell_type": "code",
      "source": [
        "from tensorflow.python.keras.models import load_model"
      ],
      "execution_count": 42,
      "outputs": []
    },
    {
      "metadata": {
        "id": "LLqdiTkwbXIW",
        "colab_type": "text"
      },
      "cell_type": "markdown",
      "source": [
        "Loading the model is then just a single function-call, as it should be."
      ]
    },
    {
      "metadata": {
        "id": "RQOKGoTtbXIW",
        "colab_type": "code",
        "colab": {
          "base_uri": "https://localhost:8080/",
          "height": 0
        },
        "outputId": "3eecb892-63d5-4fdd-eb5f-6d0d3dbbf8f0"
      },
      "cell_type": "code",
      "source": [
        "model3 = load_model(path_model)"
      ],
      "execution_count": 43,
      "outputs": []
    },
    {
      "metadata": {
        "id": "mQ5nMuiibXIZ",
        "colab_type": "text"
      },
      "cell_type": "markdown",
      "source": [
        "We can then use the model again e.g. to make predictions. We get the first 9 images from the test-set and their true class-numbers."
      ]
    },
    {
      "metadata": {
        "id": "_FyKfSHQbXIZ",
        "colab_type": "code",
        "colab": {
          "base_uri": "https://localhost:8080/",
          "height": 0
        },
        "outputId": "95bdae4b-1b82-4136-942a-a02b5d9f73c8"
      },
      "cell_type": "code",
      "source": [
        "images = data.test.images[0:9]"
      ],
      "execution_count": 44,
      "outputs": []
    },
    {
      "metadata": {
        "id": "eZ3ns-lgbXIb",
        "colab_type": "code",
        "colab": {
          "base_uri": "https://localhost:8080/",
          "height": 0
        },
        "outputId": "a822cfbf-4981-48a9-cf7a-777a1409516e"
      },
      "cell_type": "code",
      "source": [
        "cls_true = data.test.cls[0:9]"
      ],
      "execution_count": 45,
      "outputs": []
    },
    {
      "metadata": {
        "id": "4mpE4pbPbXIe",
        "colab_type": "text"
      },
      "cell_type": "markdown",
      "source": [
        "We then use the restored model to predict the class-numbers for those images."
      ]
    },
    {
      "metadata": {
        "id": "d16CYqNDbXIf",
        "colab_type": "code",
        "colab": {
          "base_uri": "https://localhost:8080/",
          "height": 0
        },
        "outputId": "baa01f4c-7e0a-4572-e0e7-68cdff7831a6"
      },
      "cell_type": "code",
      "source": [
        "y_pred = model3.predict(x=images)"
      ],
      "execution_count": 46,
      "outputs": []
    },
    {
      "metadata": {
        "id": "Ze9SqJ_vbXIg",
        "colab_type": "text"
      },
      "cell_type": "markdown",
      "source": [
        "Get the class-numbers as integers."
      ]
    },
    {
      "metadata": {
        "id": "EOtMmVkKbXIh",
        "colab_type": "code",
        "colab": {
          "base_uri": "https://localhost:8080/",
          "height": 0
        },
        "outputId": "35bc07ca-8bf3-4fb1-f81e-ac008700d943"
      },
      "cell_type": "code",
      "source": [
        "cls_pred = np.argmax(y_pred, axis=1)"
      ],
      "execution_count": 47,
      "outputs": []
    },
    {
      "metadata": {
        "id": "V4lO6R2RbXIj",
        "colab_type": "text"
      },
      "cell_type": "markdown",
      "source": [
        "Plot the images with their true and predicted class-numbers."
      ]
    },
    {
      "metadata": {
        "id": "kfqJSKkMbXIj",
        "colab_type": "code",
        "colab": {
          "base_uri": "https://localhost:8080/",
          "height": 0
        },
        "outputId": "64e74f4b-f30f-4acc-85a4-4f6123ff730a"
      },
      "cell_type": "code",
      "source": [
        "plot_images(images=images,\n",
        "            cls_pred=cls_pred,\n",
        "            cls_true=cls_true)"
      ],
      "execution_count": 48,
      "outputs": [
        {
          "output_type": "display_data",
          "data": {
            "image/png": "[encoded data removed]",
            "text/plain": [
              "<matplotlib.figure.Figure at 0x7fd8d3ae3fd0>"
            ]
          },
          "metadata": {
            "tags": []
          }
        }
      ]
    },
    {
      "metadata": {
        "id": "5a5dkgm2bXIm",
        "colab_type": "text"
      },
      "cell_type": "markdown",
      "source": [
        "## Visualization of Layer Weights and Outputs"
      ]
    },
    {
      "metadata": {
        "id": "fJvM0O78bXIm",
        "colab_type": "text"
      },
      "cell_type": "markdown",
      "source": [
        "### Helper-function for plotting convolutional weights"
      ]
    },
    {
      "metadata": {
        "id": "idWkqUHGbXIs",
        "colab_type": "code",
        "colab": {
          "base_uri": "https://localhost:8080/",
          "height": 0
        },
        "outputId": "c615ab56-7c00-4bd9-b70c-2c9f4588a5af"
      },
      "cell_type": "code",
      "source": [
        "def plot_conv_weights(weights, input_channel=0):\n",
        "    # Get the lowest and highest values for the weights.\n",
        "    # This is used to correct the colour intensity across\n",
        "    # the images so they can be compared with each other.\n",
        "    w_min = np.min(weights)\n",
        "    w_max = np.max(weights)\n",
        "\n",
        "    # Number of filters used in the conv. layer.\n",
        "    num_filters = weights.shape[3]\n",
        "\n",
        "    # Number of grids to plot.\n",
        "    # Rounded-up, square-root of the number of filters.\n",
        "    num_grids = math.ceil(math.sqrt(num_filters))\n",
        "    \n",
        "    # Create figure with a grid of sub-plots.\n",
        "    fig, axes = plt.subplots(num_grids, num_grids)\n",
        "\n",
        "    # Plot all the filter-weights.\n",
        "    for i, ax in enumerate(axes.flat):\n",
        "        # Only plot the valid filter-weights.\n",
        "        if i<num_filters:\n",
        "            # Get the weights for the i'th filter of the input channel.\n",
        "            # See new_conv_layer() for details on the format\n",
        "            # of this 4-dim tensor.\n",
        "            img = weights[:, :, input_channel, i]\n",
        "\n",
        "            # Plot image.\n",
        "            ax.imshow(img, vmin=w_min, vmax=w_max,\n",
        "                      interpolation='nearest', cmap='seismic')\n",
        "        \n",
        "        # Remove ticks from the plot.\n",
        "        ax.set_xticks([])\n",
        "        ax.set_yticks([])\n",
        "    \n",
        "    # Ensure the plot is shown correctly with multiple plots\n",
        "    # in a single Notebook cell.\n",
        "    plt.show()"
      ],
      "execution_count": 49,
      "outputs": []
    },
    {
      "metadata": {
        "id": "bdIKlyA0bXIu",
        "colab_type": "text"
      },
      "cell_type": "markdown",
      "source": [
        "### Get Layers\n",
        "\n",
        "Keras has a simple way of listing the layers in the model."
      ]
    },
    {
      "metadata": {
        "id": "R-0fz1trbXIu",
        "colab_type": "code",
        "colab": {
          "base_uri": "https://localhost:8080/",
          "height": 0
        },
        "outputId": "d17f24f0-19bc-471a-8fd1-41a65c31cd57"
      },
      "cell_type": "code",
      "source": [
        "model3.summary()"
      ],
      "execution_count": 50,
      "outputs": [
        {
          "output_type": "stream",
          "text": [
            "_________________________________________________________________\n",
            "Layer (type)                 Output Shape              Param #   \n",
            "=================================================================\n",
            "input_2 (InputLayer)         (None, 784)               0         \n",
            "_________________________________________________________________\n",
            "reshape_1 (Reshape)          (None, 28, 28, 1)         0         \n",
            "_________________________________________________________________\n",
            "layer_conv1 (Conv2D)         (None, 28, 28, 16)        416       \n",
            "_________________________________________________________________\n",
            "max_pooling2d_2 (MaxPooling2 (None, 14, 14, 16)        0         \n",
            "_________________________________________________________________\n",
            "layer_conv2 (Conv2D)         (None, 14, 14, 36)        14436     \n",
            "_________________________________________________________________\n",
            "max_pooling2d_3 (MaxPooling2 (None, 7, 7, 36)          0         \n",
            "_________________________________________________________________\n",
            "flatten_1 (Flatten)          (None, 1764)              0         \n",
            "_________________________________________________________________\n",
            "dense_2 (Dense)              (None, 128)               225920    \n",
            "_________________________________________________________________\n",
            "dense_3 (Dense)              (None, 10)                1290      \n",
            "=================================================================\n",
            "Total params: 242,062\n",
            "Trainable params: 242,062\n",
            "Non-trainable params: 0\n",
            "_________________________________________________________________\n"
          ],
          "name": "stdout"
        }
      ]
    },
    {
      "metadata": {
        "id": "m7y4jWX-bXIw",
        "colab_type": "text"
      },
      "cell_type": "markdown",
      "source": [
        "We count the indices to get the layers we want.\n",
        "\n",
        "The input-layer has index 0."
      ]
    },
    {
      "metadata": {
        "id": "oumWFJTPbXIx",
        "colab_type": "code",
        "colab": {
          "base_uri": "https://localhost:8080/",
          "height": 0
        },
        "outputId": "31d47165-3a0b-4a8b-defa-d79c185a56af"
      },
      "cell_type": "code",
      "source": [
        "layer_input = model3.layers[0]"
      ],
      "execution_count": 51,
      "outputs": []
    },
    {
      "metadata": {
        "id": "ZSdDb-i-bXIy",
        "colab_type": "text"
      },
      "cell_type": "markdown",
      "source": [
        "The first convolutional layer has index 2."
      ]
    },
    {
      "metadata": {
        "id": "Fmv5oLILbXIz",
        "colab_type": "code",
        "colab": {
          "base_uri": "https://localhost:8080/",
          "height": 0
        },
        "outputId": "9bf3b292-1c32-4cf1-bf9a-df6236591111"
      },
      "cell_type": "code",
      "source": [
        "layer_conv1 = model3.layers[2]\n",
        "layer_conv1"
      ],
      "execution_count": 52,
      "outputs": [
        {
          "output_type": "execute_result",
          "data": {
            "text/plain": [
              "<tensorflow.python.keras.layers.convolutional.Conv2D at 0x7fd8d3ae9a20>"
            ]
          },
          "metadata": {
            "tags": []
          },
          "execution_count": 52
        }
      ]
    },
    {
      "metadata": {
        "id": "XIq07OdQbXI2",
        "colab_type": "text"
      },
      "cell_type": "markdown",
      "source": [
        "The second convolutional layer has index 4."
      ]
    },
    {
      "metadata": {
        "id": "tEG1bcNAbXI2",
        "colab_type": "code",
        "colab": {
          "base_uri": "https://localhost:8080/",
          "height": 0
        },
        "outputId": "6ad6f9d2-d864-4070-81da-7455213419c9"
      },
      "cell_type": "code",
      "source": [
        "layer_conv2 = model3.layers[4]"
      ],
      "execution_count": 53,
      "outputs": []
    },
    {
      "metadata": {
        "id": "faFMK4xPbXI4",
        "colab_type": "text"
      },
      "cell_type": "markdown",
      "source": [
        "### Convolutional Weights\n",
        "\n",
        "Now that we have the layers we can easily get their weights."
      ]
    },
    {
      "metadata": {
        "id": "NWZzKR8kbXI4",
        "colab_type": "code",
        "colab": {
          "base_uri": "https://localhost:8080/",
          "height": 0
        },
        "outputId": "08854e96-185c-447d-81d7-2c8e393259a4"
      },
      "cell_type": "code",
      "source": [
        "weights_conv1 = layer_conv1.get_weights()[0]"
      ],
      "execution_count": 54,
      "outputs": []
    },
    {
      "metadata": {
        "id": "MHCV2bVpbXJA",
        "colab_type": "text"
      },
      "cell_type": "markdown",
      "source": [
        "This gives us a 4-rank tensor."
      ]
    },
    {
      "metadata": {
        "id": "x4Xe3I6ObXJB",
        "colab_type": "code",
        "colab": {
          "base_uri": "https://localhost:8080/",
          "height": 0
        },
        "outputId": "08188950-190c-4a07-dc76-4cd3dc3f3662"
      },
      "cell_type": "code",
      "source": [
        "weights_conv1.shape"
      ],
      "execution_count": 55,
      "outputs": [
        {
          "output_type": "execute_result",
          "data": {
            "text/plain": [
              "(5, 5, 1, 16)"
            ]
          },
          "metadata": {
            "tags": []
          },
          "execution_count": 55
        }
      ]
    },
    {
      "metadata": {
        "id": "QX_aVavQbXJI",
        "colab_type": "text"
      },
      "cell_type": "markdown",
      "source": [
        "Plot the weights using the helper-function from above."
      ]
    },
    {
      "metadata": {
        "id": "AubEGdbabXJJ",
        "colab_type": "code",
        "colab": {
          "base_uri": "https://localhost:8080/",
          "height": 0
        },
        "outputId": "f85c8607-ae77-475b-c423-ae336e3ab18c"
      },
      "cell_type": "code",
      "source": [
        "plot_conv_weights(weights=weights_conv1, input_channel=0)"
      ],
      "execution_count": 56,
      "outputs": [
        {
          "output_type": "display_data",
          "data": {
            "image/png": "[encoded data removed]",
            "text/plain": [
              "<matplotlib.figure.Figure at 0x7fd8d2f4ce10>"
            ]
          },
          "metadata": {
            "tags": []
          }
        }
      ]
    },
    {
      "metadata": {
        "id": "MrjteTA_bXJM",
        "colab_type": "text"
      },
      "cell_type": "markdown",
      "source": [
        "We can also get the weights for the second convolutional layer and plot them."
      ]
    },
    {
      "metadata": {
        "id": "NDXmlhzYbXJO",
        "colab_type": "code",
        "colab": {
          "base_uri": "https://localhost:8080/",
          "height": 0
        },
        "outputId": "d091ee47-cd33-48dc-f15a-2f9494fb27ab"
      },
      "cell_type": "code",
      "source": [
        "weights_conv2 = layer_conv2.get_weights()[0]"
      ],
      "execution_count": 57,
      "outputs": []
    },
    {
      "metadata": {
        "id": "nR2EiAisbXJQ",
        "colab_type": "code",
        "colab": {
          "base_uri": "https://localhost:8080/",
          "height": 0
        },
        "outputId": "127fa47b-7c47-42a9-fb8f-2b72b6a3145f"
      },
      "cell_type": "code",
      "source": [
        "plot_conv_weights(weights=weights_conv2, input_channel=0)"
      ],
      "execution_count": 58,
      "outputs": [
        {
          "output_type": "display_data",
          "data": {
            "image/png": "[encoded data removed]",
            "text/plain": [
              "<matplotlib.figure.Figure at 0x7fd8d2048710>"
            ]
          },
          "metadata": {
            "tags": []
          }
        }
      ]
    },
    {
      "metadata": {
        "id": "wGDo0oBebXJT",
        "colab_type": "text"
      },
      "cell_type": "markdown",
      "source": [
        "### Helper-function for plotting the output of a convolutional layer"
      ]
    },
    {
      "metadata": {
        "id": "HXG4TjgubXJV",
        "colab_type": "code",
        "colab": {
          "base_uri": "https://localhost:8080/",
          "height": 0
        },
        "outputId": "251d29d5-c99a-4a83-9d59-2d13fd75c32e"
      },
      "cell_type": "code",
      "source": [
        "def plot_conv_output(values):\n",
        "    # Number of filters used in the conv. layer.\n",
        "    num_filters = values.shape[3]\n",
        "\n",
        "    # Number of grids to plot.\n",
        "    # Rounded-up, square-root of the number of filters.\n",
        "    num_grids = math.ceil(math.sqrt(num_filters))\n",
        "    \n",
        "    # Create figure with a grid of sub-plots.\n",
        "    fig, axes = plt.subplots(num_grids, num_grids)\n",
        "\n",
        "    # Plot the output images of all the filters.\n",
        "    for i, ax in enumerate(axes.flat):\n",
        "        # Only plot the images for valid filters.\n",
        "        if i<num_filters:\n",
        "            # Get the output image of using the i'th filter.\n",
        "            img = values[0, :, :, i]\n",
        "\n",
        "            # Plot image.\n",
        "            ax.imshow(img, interpolation='nearest', cmap='binary')\n",
        "        \n",
        "        # Remove ticks from the plot.\n",
        "        ax.set_xticks([])\n",
        "        ax.set_yticks([])\n",
        "    \n",
        "    # Ensure the plot is shown correctly with multiple plots\n",
        "    # in a single Notebook cell.\n",
        "    plt.show()"
      ],
      "execution_count": 59,
      "outputs": []
    },
    {
      "metadata": {
        "id": "i8qImJldbXJY",
        "colab_type": "text"
      },
      "cell_type": "markdown",
      "source": [
        "### Input Image\n",
        "\n",
        "Helper-function for plotting a single image."
      ]
    },
    {
      "metadata": {
        "id": "3hTuYmmDbXJY",
        "colab_type": "code",
        "colab": {
          "base_uri": "https://localhost:8080/",
          "height": 0
        },
        "outputId": "9a740737-842b-4576-976d-abc22a3f5b52"
      },
      "cell_type": "code",
      "source": [
        "def plot_image(image):\n",
        "    plt.imshow(image.reshape(img_shape),\n",
        "               interpolation='nearest',\n",
        "               cmap='binary')\n",
        "\n",
        "    plt.show()"
      ],
      "execution_count": 60,
      "outputs": []
    },
    {
      "metadata": {
        "id": "PWWlLjMtbXJb",
        "colab_type": "text"
      },
      "cell_type": "markdown",
      "source": [
        "Plot an image from the test-set which will be used as an example below."
      ]
    },
    {
      "metadata": {
        "id": "NUN71pR4bXJc",
        "colab_type": "code",
        "colab": {
          "base_uri": "https://localhost:8080/",
          "height": 0
        },
        "outputId": "2fb6a9da-140f-4120-de02-4c27425afcf6"
      },
      "cell_type": "code",
      "source": [
        "image1 = data.test.images[0]\n",
        "plot_image(image1)"
      ],
      "execution_count": 61,
      "outputs": [
        {
          "output_type": "display_data",
          "data": {
            "image/png": "[encoded data removed]",
            "text/plain": [
              "<matplotlib.figure.Figure at 0x7fd8d2f07860>"
            ]
          },
          "metadata": {
            "tags": []
          }
        }
      ]
    },
    {
      "metadata": {
        "id": "KLF4Jhs8bXJe",
        "colab_type": "text"
      },
      "cell_type": "markdown",
      "source": [
        "### Output of Convolutional Layer - Method 1\n",
        "\n",
        "There are different ways of getting the output of a layer in a Keras model. This method uses a so-called K-function which turns a part of the Keras model into a function."
      ]
    },
    {
      "metadata": {
        "id": "IU38d7e9bXJg",
        "colab_type": "code",
        "colab": {
          "base_uri": "https://localhost:8080/",
          "height": 0
        },
        "outputId": "ba12b9d4-1adb-443f-b6a5-25391c5d1f88"
      },
      "cell_type": "code",
      "source": [
        "from tensorflow.python.keras import backend as K"
      ],
      "execution_count": 62,
      "outputs": []
    },
    {
      "metadata": {
        "id": "gOrdendWbXJh",
        "colab_type": "code",
        "colab": {
          "base_uri": "https://localhost:8080/",
          "height": 0
        },
        "outputId": "ab7ee35a-1b14-4d35-c796-ae247a1c8c9a"
      },
      "cell_type": "code",
      "source": [
        "output_conv1 = K.function(inputs=[layer_input.input],\n",
        "                          outputs=[layer_conv1.output])"
      ],
      "execution_count": 63,
      "outputs": []
    },
    {
      "metadata": {
        "id": "T6CnGG96bXJi",
        "colab_type": "text"
      },
      "cell_type": "markdown",
      "source": [
        "We can then call this function with the input image. Note that the image is wrapped in two lists because the function expects an array of that dimensionality. Likewise, the function returns an array with one more dimensionality than we want so we just take the first element."
      ]
    },
    {
      "metadata": {
        "id": "dU2BoRA4bXJj",
        "colab_type": "code",
        "colab": {
          "base_uri": "https://localhost:8080/",
          "height": 0
        },
        "outputId": "e954d86d-8758-4da5-fac6-dcd90b6da820"
      },
      "cell_type": "code",
      "source": [
        "layer_output1 = output_conv1([[image1]])[0]\n",
        "layer_output1.shape"
      ],
      "execution_count": 64,
      "outputs": [
        {
          "output_type": "execute_result",
          "data": {
            "text/plain": [
              "(1, 28, 28, 16)"
            ]
          },
          "metadata": {
            "tags": []
          },
          "execution_count": 64
        }
      ]
    },
    {
      "metadata": {
        "id": "v_v757bSbXJk",
        "colab_type": "text"
      },
      "cell_type": "markdown",
      "source": [
        "We can then plot the output of all 16 channels of the convolutional layer."
      ]
    },
    {
      "metadata": {
        "id": "0bC1MApBbXJk",
        "colab_type": "code",
        "colab": {
          "base_uri": "https://localhost:8080/",
          "height": 0
        },
        "outputId": "93ecead8-2228-4312-8606-25a7bf19aaa9"
      },
      "cell_type": "code",
      "source": [
        "plot_conv_output(values=layer_output1)"
      ],
      "execution_count": 65,
      "outputs": [
        {
          "output_type": "display_data",
          "data": {
            "image/png": "[encoded data removed]",
            "text/plain": [
              "<matplotlib.figure.Figure at 0x7fd8d2f07fd0>"
            ]
          },
          "metadata": {
            "tags": []
          }
        }
      ]
    },
    {
      "metadata": {
        "id": "c5JKLeVAbXJn",
        "colab_type": "text"
      },
      "cell_type": "markdown",
      "source": [
        "### Output of Convolutional Layer - Method 2\n",
        "\n",
        "Keras also has another method for getting the output of a layer inside the model. This creates another Functional Model using the same input as the original model, but the output is now taken from the convolutional layer that we are interested in."
      ]
    },
    {
      "metadata": {
        "id": "CQ1SvqxcbXJo",
        "colab_type": "code",
        "colab": {
          "base_uri": "https://localhost:8080/",
          "height": 0
        },
        "outputId": "77510826-8dde-4613-8614-e3a9eb3ae205"
      },
      "cell_type": "code",
      "source": [
        "output_conv2 = Model(inputs=layer_input.input,\n",
        "                     outputs=layer_conv2.output)"
      ],
      "execution_count": 66,
      "outputs": []
    },
    {
      "metadata": {
        "id": "Yy78-fNxbXJo",
        "colab_type": "text"
      },
      "cell_type": "markdown",
      "source": [
        "This creates a new model-object where we can call the typical Keras functions. To get the output of the convoloutional layer we call the `predict()` function with the input image."
      ]
    },
    {
      "metadata": {
        "id": "xjuOaTSzbXJp",
        "colab_type": "code",
        "colab": {
          "base_uri": "https://localhost:8080/",
          "height": 0
        },
        "outputId": "4220df15-2d2a-4587-89f5-4948d53facf6"
      },
      "cell_type": "code",
      "source": [
        "layer_output2 = output_conv2.predict(np.array([image1]))\n",
        "layer_output2.shape"
      ],
      "execution_count": 67,
      "outputs": [
        {
          "output_type": "execute_result",
          "data": {
            "text/plain": [
              "(1, 14, 14, 36)"
            ]
          },
          "metadata": {
            "tags": []
          },
          "execution_count": 67
        }
      ]
    },
    {
      "metadata": {
        "id": "kd4JNbxobXJ2",
        "colab_type": "text"
      },
      "cell_type": "markdown",
      "source": [
        "We can then plot the images for all 36 channels."
      ]
    },
    {
      "metadata": {
        "id": "KDvg0m09bXJ2",
        "colab_type": "code",
        "colab": {
          "base_uri": "https://localhost:8080/",
          "height": 0
        },
        "outputId": "3d2d2509-52ca-4cef-9f9a-49170166dd9f"
      },
      "cell_type": "code",
      "source": [
        "plot_conv_output(values=layer_output2)"
      ],
      "execution_count": 68,
      "outputs": [
        {
          "output_type": "display_data",
          "data": {
            "image/png": "[encoded data removed]",
            "text/plain": [
              "<matplotlib.figure.Figure at 0x7fd8d2163470>"
            ]
          },
          "metadata": {
            "tags": []
          }
        }
      ]
    },
    {
      "metadata": {
        "id": "kUdtrzMLbXJ5",
        "colab_type": "text"
      },
      "cell_type": "markdown",
      "source": [
        "## Conclusion\n",
        "\n",
        "This tutorial showed how to use the so-called *Keras API* for easily building Convolutional Neural Networks in TensorFlow. Keras is by far the most complete and best designed API for TensorFlow.\n",
        "\n",
        "This tutorial also showed how to use Keras to save and load a model, as well as getting the weights and outputs of convolutional layers.\n",
        "\n",
        "It seems likely that Keras will be the standard API for TensorFlow in the future, for the simple reason that is already very good and it is constantly being improved. So it is recommended that you use Keras."
      ]
    },
    {
      "metadata": {
        "id": "717rLYPrbXJ6",
        "colab_type": "text"
      },
      "cell_type": "markdown",
      "source": [
        "## Exercises\n",
        "\n",
        "These are a few suggestions for exercises that may help improve your skills with TensorFlow. It is important to get hands-on experience with TensorFlow in order to learn how to use it properly.\n",
        "\n",
        "You may want to backup this Notebook before making any changes.\n",
        "\n",
        "*  DONE!!! Train for more epochs. Does it improve the classification accuracy?\n",
        "* DONE!!! Change the activation function to sigmoid for some of the layers.\n",
        "* DONE!!! Can you find a simple way of changing the activation function for all the layers?\n",
        "* DONE!!! Plot the output of the max-pooling layers instead of the conv-layers.\n",
        "* DONE!!! Replace the 2x2 max-pooling layers with stride=2 in the convolutional layers. Is there a difference in classification accuracy? What if you optimize it again and again? The difference is random, so how would you measure if there really is a difference? What are the pros and cons of using max-pooling vs. stride in the conv-layer?\n",
        "* DONE!!! Change the parameters for the layers, e.g. the kernel, depth, size, etc. What is the difference in time usage and classification accuracy? (Kernel ^ => time ^ & loss down. vice-versa) (accuracy is relative small changed. unless kernel size is too small.)\n",
        "* DONE!!! Add and remove some convolutional and fully-connected layers.\n",
        "* What is the simplest network you can design that still performs well?\n",
        "* Change the Functional Model so it has another convolutional layer that connects in parallel to the existing conv-layers before going into the dense layers.\n",
        "* Change the Functional Model so it outputs the predicted class both as a One-Hot encoded array and as an integer, so we don't have to use `numpy.argmax()` afterwards.\n",
        "* Remake the program yourself without looking too much at this source-code.\n",
        "* Explain to a friend how the program works."
      ]
    },
    {
      "metadata": {
        "id": "eiiZkEULbXJ6",
        "colab_type": "text"
      },
      "cell_type": "markdown",
      "source": [
        "## License (MIT)\n",
        "\n",
        "Copyright (c) 2016-2017 by [Magnus Erik Hvass Pedersen](http://www.hvass-labs.org/)\n",
        "\n",
        "Permission is hereby granted, free of charge, to any person obtaining a copy of this software and associated documentation files (the \"Software\"), to deal in the Software without restriction, including without limitation the rights to use, copy, modify, merge, publish, distribute, sublicense, and/or sell copies of the Software, and to permit persons to whom the Software is furnished to do so, subject to the following conditions:\n",
        "\n",
        "The above copyright notice and this permission notice shall be included in all copies or substantial portions of the Software.\n",
        "\n",
        "THE SOFTWARE IS PROVIDED \"AS IS\", WITHOUT WARRANTY OF ANY KIND, EXPRESS OR IMPLIED, INCLUDING BUT NOT LIMITED TO THE WARRANTIES OF MERCHANTABILITY, FITNESS FOR A PARTICULAR PURPOSE AND NONINFRINGEMENT. IN NO EVENT SHALL THE AUTHORS OR COPYRIGHT HOLDERS BE LIABLE FOR ANY CLAIM, DAMAGES OR OTHER LIABILITY, WHETHER IN AN ACTION OF CONTRACT, TORT OR OTHERWISE, ARISING FROM, OUT OF OR IN CONNECTION WITH THE SOFTWARE OR THE USE OR OTHER DEALINGS IN THE SOFTWARE."
      ]
    }
  ]
}